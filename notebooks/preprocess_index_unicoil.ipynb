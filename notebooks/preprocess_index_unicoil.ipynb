{
 "cells": [
  {
   "cell_type": "code",
   "execution_count": 1,
   "id": "34c5379f-9830-4327-9a02-cad446a890f2",
   "metadata": {},
   "outputs": [
    {
     "name": "stdout",
     "output_type": "stream",
     "text": [
      "env: CUDA_VISIBLE_DEVICES=3,1\n"
     ]
    }
   ],
   "source": [
    "%load_ext autoreload\n",
    "%autoreload 2\n",
    "%env CUDA_VISIBLE_DEVICES=3,1"
   ]
  },
  {
   "cell_type": "code",
   "execution_count": 2,
   "id": "3c117014-a021-4425-9ed2-3d2f4b653394",
   "metadata": {},
   "outputs": [],
   "source": [
    "import json\n",
    "import os\n",
    "import _pickle as cPickle\n",
    "from tqdm.auto import tqdm"
   ]
  },
  {
   "cell_type": "markdown",
   "id": "af8ee21d-f795-4f2b-a0e0-2ea14524ae9d",
   "metadata": {
    "tags": []
   },
   "source": [
    "## Filter passages"
   ]
  },
  {
   "cell_type": "code",
   "execution_count": 3,
   "id": "4d4edf7a-6b85-419f-a905-b1a3f9dc832f",
   "metadata": {},
   "outputs": [],
   "source": [
    "q_ids = set()"
   ]
  },
  {
   "cell_type": "code",
   "execution_count": 4,
   "id": "7b036bf7-e32d-4741-b90e-4c9ca3af558b",
   "metadata": {
    "tags": []
   },
   "outputs": [
    {
     "data": {
      "application/vnd.jupyter.widget-view+json": {
       "model_id": "46358054df5a45b9a7bbeede708fe5da",
       "version_major": 2,
       "version_minor": 0
      },
      "text/plain": [
       "HBox(children=(FloatProgress(value=0.0, max=532761.0), HTML(value='')))"
      ]
     },
     "metadata": {},
     "output_type": "display_data"
    },
    {
     "name": "stdout",
     "output_type": "stream",
     "text": [
      "\n",
      "502,939\n",
      "516,472\n"
     ]
    }
   ],
   "source": [
    "train_gold_pids = set()\n",
    "\n",
    "with open('data/msmarco-passage/qrels.train.txt') as f:\n",
    "    for line in tqdm(f.readlines()):\n",
    "        q_id, _, p_id, _ = line.rstrip().split('\\t')\n",
    "        q_ids.add(q_id)\n",
    "        train_gold_pids.add(p_id)\n",
    "print(f'{len(q_ids):,}')  # 502,939\n",
    "print(f'{len(train_gold_pids):,}')  # 516,472\n",
    "\n",
    "if not os.path.exists('data/msmarco-passage/pids.train.gold.txt'):\n",
    "    with open('data/msmarco-passage/pids.train.gold.txt', 'w') as f:\n",
    "        for p_id in sorted(train_gold_pids, key=lambda x: int(x)):\n",
    "            f.write(f'{p_id}\\n')"
   ]
  },
  {
   "cell_type": "code",
   "execution_count": 5,
   "id": "d0f064e0-e09d-41c9-af1b-9428dd9a092f",
   "metadata": {},
   "outputs": [
    {
     "data": {
      "application/vnd.jupyter.widget-view+json": {
       "model_id": "5fb995c03a204ec3b1779a67b22ae063",
       "version_major": 2,
       "version_minor": 0
      },
      "text/plain": [
       "HBox(children=(FloatProgress(value=0.0, max=7437.0), HTML(value='')))"
      ]
     },
     "metadata": {},
     "output_type": "display_data"
    },
    {
     "name": "stdout",
     "output_type": "stream",
     "text": [
      "\n",
      "509,919\n",
      "7,433\n"
     ]
    }
   ],
   "source": [
    "dev_gold_pids = set()\n",
    "\n",
    "with open('data/msmarco-passage/qrels.dev.small.txt') as f:\n",
    "    for line in tqdm(f.readlines()):\n",
    "        q_id, _, p_id, _ = line.rstrip().split('\\t')\n",
    "        q_ids.add(q_id)\n",
    "        dev_gold_pids.add(p_id)\n",
    "print(f'{len(q_ids):,}')  # 509,919 = 502,939 + 6,980\n",
    "print(f'{len(dev_gold_pids):,}')  # 7,433\n",
    "\n",
    "if not os.path.exists('data/msmarco-passage/pids.dev.small.gold.txt'):\n",
    "    with open('data/msmarco-passage/pids.dev.small.gold.txt', 'w') as f:\n",
    "        for p_id in sorted(dev_gold_pids, key=lambda x: int(x)):\n",
    "            f.write(f'{p_id}\\n')"
   ]
  },
  {
   "cell_type": "code",
   "execution_count": 6,
   "id": "c47ff4a6-4e03-450e-bebb-108a424f683b",
   "metadata": {},
   "outputs": [
    {
     "name": "stdout",
     "output_type": "stream",
     "text": [
      "523,598\n"
     ]
    }
   ],
   "source": [
    "gold_pids = train_gold_pids | dev_gold_pids\n",
    "print(f'{len(gold_pids):,}')  # 523,598\n",
    "\n",
    "if not os.path.exists('data/msmarco-passage/pids.gold.txt'):\n",
    "    with open('data/msmarco-passage/pids.gold.txt', 'w') as f:\n",
    "        for p_id in sorted(gold_pids, key=lambda x: int(x)):\n",
    "            f.write(f'{p_id}\\n')"
   ]
  },
  {
   "cell_type": "code",
   "execution_count": 9,
   "id": "7f396e15-21b9-47cc-a1b2-60349733c1ca",
   "metadata": {},
   "outputs": [
    {
     "data": {
      "application/vnd.jupyter.widget-view+json": {
       "model_id": "d3cb876e304042e7bd2500a798050786",
       "version_major": 2,
       "version_minor": 0
      },
      "text/plain": [
       "HBox(children=(FloatProgress(value=0.0, max=40433869.0), HTML(value='')))"
      ]
     },
     "metadata": {},
     "output_type": "display_data"
    },
    {
     "name": "stdout",
     "output_type": "stream",
     "text": [
      "\n",
      "bm25tuned 1,629,659\n"
     ]
    },
    {
     "data": {
      "application/vnd.jupyter.widget-view+json": {
       "model_id": "816ddf3a8cab496a9662d73370fb4a7b",
       "version_major": 2,
       "version_minor": 0
      },
      "text/plain": [
       "HBox(children=(FloatProgress(value=0.0, max=40434110.0), HTML(value='')))"
      ]
     },
     "metadata": {},
     "output_type": "display_data"
    },
    {
     "name": "stdout",
     "output_type": "stream",
     "text": [
      "\n",
      "expanded-bm25tuned 2,806,293\n"
     ]
    },
    {
     "data": {
      "application/vnd.jupyter.widget-view+json": {
       "model_id": "6b0e42563a8c42afb12396a8af2f0dd0",
       "version_major": 2,
       "version_minor": 0
      },
      "text/plain": [
       "HBox(children=(FloatProgress(value=0.0, max=40436550.0), HTML(value='')))"
      ]
     },
     "metadata": {},
     "output_type": "display_data"
    },
    {
     "name": "stdout",
     "output_type": "stream",
     "text": [
      "\n",
      "unicoil-b8 3,409,557\n",
      "3,531,017\n"
     ]
    }
   ],
   "source": [
    "import glob\n",
    "\n",
    "top_k = 5\n",
    "top_pids = set()\n",
    "\n",
    "for file_name in sorted(glob.glob('data/msmarco-passage/run/*.train.tsv')):\n",
    "    retrieval_method = file_name.split('/')[-1].split('.')[0]\n",
    "    with open(file_name) as f:\n",
    "        for line in tqdm(f.readlines()):\n",
    "            q_id, p_id, rank = line.rstrip().split('\\t')\n",
    "            if q_id not in q_ids:\n",
    "                continue\n",
    "            rank = int(rank)\n",
    "            if rank <= top_k:\n",
    "                top_pids.add(p_id)\n",
    "    print(f'{retrieval_method} {len(top_pids):,}')\n",
    "\n",
    "top_pids.update(gold_pids)\n",
    "print(f'{len(top_pids):,}')\n",
    "# gold: 516,472\n",
    "#    1: 1,330,614 6.2GB\n",
    "#    2: 1,999,058 9.3GB\n",
    "#    3: 2,574,081 11.6GB\n",
    "#    5: 3,526,992 16.1GB    3,531,017\n",
    "#   10: 5,172,700 23.2(27.2)GB\n",
    "#   20: 6,882,374 32.0GB\n",
    "#  all: 8,841,823 40.5GB\n",
    "\n",
    "with open(f'data/msmarco-passage/pids.train-top{top_k}.txt', 'w') as f:\n",
    "    for p_id in sorted(top_pids, key=lambda x: int(x)):\n",
    "        f.write(f'{p_id}\\n')"
   ]
  },
  {
   "cell_type": "markdown",
   "id": "ef745c1a-02bc-4a84-94b1-6fe5a2360692",
   "metadata": {
    "tags": []
   },
   "source": [
    "## Build index"
   ]
  },
  {
   "cell_type": "code",
   "execution_count": 10,
   "id": "042a1c08-38c5-4960-a153-662f24be2ed4",
   "metadata": {
    "tags": []
   },
   "outputs": [
    {
     "data": {
      "application/vnd.jupyter.widget-view+json": {
       "model_id": "21c54e90ca5f4b4a8d81070fa5ffbb46",
       "version_major": 2,
       "version_minor": 0
      },
      "text/plain": [
       "HBox(children=(FloatProgress(value=0.0), HTML(value='')))"
      ]
     },
     "metadata": {},
     "output_type": "display_data"
    },
    {
     "name": "stdout",
     "output_type": "stream",
     "text": [
      "\n",
      "27668\n",
      "269 0\n",
      "CPU times: user 9min 12s, sys: 34.6 s, total: 9min 47s\n",
      "Wall time: 9min 47s\n"
     ]
    }
   ],
   "source": [
    "%%time\n",
    "# CPU times: user 13min 23s, sys: 56.1 s, total: 14min 19s\n",
    "# Wall time: 14min 17s\n",
    "# 40.5GB\n",
    "import glob\n",
    "import gzip\n",
    "\n",
    "inverted_index = {}\n",
    "\n",
    "max_weight, min_weight = float('-inf'), float('inf')\n",
    "\n",
    "for file_name in tqdm(sorted(glob.glob('data/msmarco-passage/vec/unicoil-b8/*.jsonl.gz'))):\n",
    "    with gzip.open(file_name, 'r') as f:\n",
    "        for line in f:\n",
    "            p = json.loads(line)\n",
    "            p_id = p['id']\n",
    "            if p_id not in top_pids:\n",
    "                continue\n",
    "            for term, weight in p['vector'].items():\n",
    "                if weight < min_weight:\n",
    "                    min_weight = weight\n",
    "                elif weight > max_weight:\n",
    "                    max_weight = weight\n",
    "                if weight <= 0:\n",
    "                    assert weight == 0, f\"'{term}' = {weight}\"\n",
    "                    continue\n",
    "                if term == '[SEP]':\n",
    "                    continue\n",
    "                if term not in inverted_index:\n",
    "                    inverted_index[term] = []\n",
    "                inverted_index[term].append((p_id, weight))\n",
    "            # del p\n",
    "print(len(inverted_index))  # 27677\n",
    "print(max_weight, min_weight)  # 270 0"
   ]
  },
  {
   "cell_type": "code",
   "execution_count": 11,
   "id": "b2652d90-c8a0-45c0-8f71-47924218b312",
   "metadata": {},
   "outputs": [
    {
     "name": "stdout",
     "output_type": "stream",
     "text": [
      "CPU times: user 2min 22s, sys: 54.7 s, total: 3min 17s\n",
      "Wall time: 3min 16s\n"
     ]
    }
   ],
   "source": [
    "%%time\n",
    "# CPU times: user 6min 1s, sys: 1min 41s, total: 7min 42s\n",
    "# Wall time: 8min 5s\n",
    "with open(f'data/msmarco-passage/index/unicoil-b8.top{top_k}.pkl', 'wb') as f:\n",
    "    cPickle.dump(inverted_index, f)"
   ]
  },
  {
   "cell_type": "markdown",
   "id": "8d1eb8ec-0412-4499-91b0-3bc762baa239",
   "metadata": {
    "tags": []
   },
   "source": [
    "## Load index"
   ]
  },
  {
   "cell_type": "code",
   "execution_count": 12,
   "id": "c5cd7722-e8bc-4da8-ad0f-874b3759a882",
   "metadata": {},
   "outputs": [],
   "source": [
    "section = 'top5'"
   ]
  },
  {
   "cell_type": "code",
   "execution_count": 13,
   "id": "f07b361e-53f4-4575-b4e0-e1d8005574e3",
   "metadata": {},
   "outputs": [
    {
     "name": "stdout",
     "output_type": "stream",
     "text": [
      "3531017 3531017\n"
     ]
    }
   ],
   "source": [
    "from util import load_pids\n",
    "\n",
    "pids, pid2idx = load_pids(f'data/msmarco-passage/pids.train-{section}.txt')\n",
    "print(len(pids), len(pid2idx))"
   ]
  },
  {
   "cell_type": "code",
   "execution_count": 5,
   "id": "a19048e1-76ee-40b6-b08b-8b11b25c5d8f",
   "metadata": {
    "tags": []
   },
   "outputs": [
    {
     "name": "stdout",
     "output_type": "stream",
     "text": [
      "27668\n",
      "CPU times: user 53.1 s, sys: 10.6 s, total: 1min 3s\n",
      "Wall time: 1min 3s\n"
     ]
    }
   ],
   "source": [
    "%%time\n",
    "# CPU times: 2min 10s, sys: 27.3 s, total: 2min 37s\n",
    "# Wall time: 2min 37s\n",
    "# all: 40.5GB (48GB)\n",
    "with open(f'data/msmarco-passage/index/unicoil-b8.{section}.pkl', 'rb') as f:\n",
    "    inverted_index = cPickle.load(f)\n",
    "print(len(inverted_index))"
   ]
  },
  {
   "cell_type": "markdown",
   "id": "ace213a4-25a7-4b9e-bfda-509531e7a812",
   "metadata": {
    "tags": []
   },
   "source": [
    "## Retrieval"
   ]
  },
  {
   "cell_type": "code",
   "execution_count": 14,
   "id": "eafb5d18-9635-494a-9c30-e472d6d9c528",
   "metadata": {},
   "outputs": [],
   "source": [
    "import time\n",
    "import torch\n",
    "from transformers import AutoTokenizer\n",
    "tokenizer = AutoTokenizer.from_pretrained('bert-base-uncased')"
   ]
  },
  {
   "cell_type": "code",
   "execution_count": 15,
   "id": "f63d4d1c-61d9-4f14-8c29-11ae0d487e66",
   "metadata": {},
   "outputs": [],
   "source": [
    "n_p = len(pids)\n",
    "n_t = len(tokenizer.vocab)"
   ]
  },
  {
   "cell_type": "code",
   "execution_count": 16,
   "id": "0cf98955-e162-4e74-b7e2-9cb766bade59",
   "metadata": {
    "tags": []
   },
   "outputs": [
    {
     "name": "stdout",
     "output_type": "stream",
     "text": [
      "226,058,431\n",
      " 0.210%\n"
     ]
    }
   ],
   "source": [
    "# top1: 1.9GB, top5: 4.3GB, top10: 7.6GB\n",
    "indices = ([], [])\n",
    "values = []\n",
    "for term, postings in inverted_index.items():\n",
    "    t_idx = tokenizer.vocab[term]\n",
    "    for p_id, weight in postings:\n",
    "        p_idx = pid2idx[p_id]\n",
    "        indices[0].append(p_idx)\n",
    "        indices[1].append(t_idx)\n",
    "        values.append(weight)\n",
    "print(f'{len(values):,}')\n",
    "print(f'{len(values) / (n_p * n_t) * 100: .3f}%')  # 0.213%"
   ]
  },
  {
   "cell_type": "code",
   "execution_count": 10,
   "id": "87c58f3d-6494-469a-8d58-24680a632386",
   "metadata": {},
   "outputs": [],
   "source": [
    "csr_Q = None\n",
    "dense_Q = None\n",
    "dense_Q_ = None\n",
    "dense_P = None\n",
    "dense_P_ = None\n",
    "S = None"
   ]
  },
  {
   "cell_type": "code",
   "execution_count": 19,
   "id": "b280bfef-bd07-4ccd-8570-df0488c2109c",
   "metadata": {
    "tags": [],
    "pycharm": {
     "name": "#%%\n"
    }
   },
   "outputs": [],
   "source": [
    "# top1: 1.6GB, top5: 4.3GB, top10: 6.4GB\n",
    "coo_P_cpu = torch.sparse_coo_tensor(indices, values, size=(n_p, n_t), dtype=torch.float32, device='cpu', requires_grad=False)\n",
    "torch.save(coo_P_cpu, f'data/msmarco-passage/matrix/unicoil-b8.coo-{section}.pt')\n",
    "# csr_P_cpu = coo_P_cpu.to_sparse_csr()"
   ]
  }
 ],
 "metadata": {
  "kernelspec": {
   "display_name": "Python 3",
   "language": "python",
   "name": "python3"
  },
  "language_info": {
   "codemirror_mode": {
    "name": "ipython",
    "version": 3
   },
   "file_extension": ".py",
   "mimetype": "text/x-python",
   "name": "python",
   "nbconvert_exporter": "python",
   "pygments_lexer": "ipython3",
   "version": "3.6.13"
  },
  "widgets": {
   "application/vnd.jupyter.widget-state+json": {
    "state": {},
    "version_major": 2,
    "version_minor": 0
   }
  }
 },
 "nbformat": 4,
 "nbformat_minor": 5
}
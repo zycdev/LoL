{
 "cells": [
  {
   "cell_type": "code",
   "execution_count": 1,
   "id": "34c5379f-9830-4327-9a02-cad446a890f2",
   "metadata": {},
   "outputs": [
    {
     "name": "stdout",
     "output_type": "stream",
     "text": [
      "env: CUDA_VISIBLE_DEVICES=3,1\n"
     ]
    }
   ],
   "source": [
    "%load_ext autoreload\n",
    "%autoreload 2\n",
    "%env CUDA_VISIBLE_DEVICES=3,1"
   ]
  },
  {
   "cell_type": "code",
   "execution_count": 2,
   "id": "3c117014-a021-4425-9ed2-3d2f4b653394",
   "metadata": {},
   "outputs": [],
   "source": [
    "# import joblib\n",
    "import json\n",
    "import os\n",
    "import _pickle as cPickle\n",
    "from tqdm.auto import tqdm"
   ]
  },
  {
   "cell_type": "markdown",
   "id": "af8ee21d-f795-4f2b-a0e0-2ea14524ae9d",
   "metadata": {
    "tags": []
   },
   "source": [
    "## Filter passages"
   ]
  },
  {
   "cell_type": "code",
   "execution_count": 3,
   "id": "4d4edf7a-6b85-419f-a905-b1a3f9dc832f",
   "metadata": {},
   "outputs": [],
   "source": [
    "q_ids = set()"
   ]
  },
  {
   "cell_type": "code",
   "execution_count": 4,
   "id": "7b036bf7-e32d-4741-b90e-4c9ca3af558b",
   "metadata": {
    "tags": []
   },
   "outputs": [
    {
     "data": {
      "application/vnd.jupyter.widget-view+json": {
       "model_id": "46358054df5a45b9a7bbeede708fe5da",
       "version_major": 2,
       "version_minor": 0
      },
      "text/plain": [
       "HBox(children=(FloatProgress(value=0.0, max=532761.0), HTML(value='')))"
      ]
     },
     "metadata": {},
     "output_type": "display_data"
    },
    {
     "name": "stdout",
     "output_type": "stream",
     "text": [
      "\n",
      "502,939\n",
      "516,472\n"
     ]
    }
   ],
   "source": [
    "train_gold_pids = set()\n",
    "\n",
    "with open('data/msmarco-passage/qrels.train.txt') as f:\n",
    "    for line in tqdm(f.readlines()):\n",
    "        q_id, _, p_id, _ = line.rstrip().split('\\t')\n",
    "        q_ids.add(q_id)\n",
    "        train_gold_pids.add(p_id)\n",
    "print(f'{len(q_ids):,}')  # 502,939\n",
    "print(f'{len(train_gold_pids):,}')  # 516,472\n",
    "\n",
    "if not os.path.exists('data/msmarco-passage/pids.trai.-gold.txt'):\n",
    "    with open('data/msmarco-passage/pids.train.gold.txt', 'w') as f:\n",
    "        for p_id in sorted(train_gold_pids, key=lambda x: int(x)):\n",
    "            f.write(f'{p_id}\\n')"
   ]
  },
  {
   "cell_type": "code",
   "execution_count": 5,
   "id": "d0f064e0-e09d-41c9-af1b-9428dd9a092f",
   "metadata": {},
   "outputs": [
    {
     "data": {
      "application/vnd.jupyter.widget-view+json": {
       "model_id": "5fb995c03a204ec3b1779a67b22ae063",
       "version_major": 2,
       "version_minor": 0
      },
      "text/plain": [
       "HBox(children=(FloatProgress(value=0.0, max=7437.0), HTML(value='')))"
      ]
     },
     "metadata": {},
     "output_type": "display_data"
    },
    {
     "name": "stdout",
     "output_type": "stream",
     "text": [
      "\n",
      "509,919\n",
      "7,433\n"
     ]
    }
   ],
   "source": [
    "dev_gold_pids = set()\n",
    "\n",
    "with open('data/msmarco-passage/qrels.dev.small.txt') as f:\n",
    "    for line in tqdm(f.readlines()):\n",
    "        q_id, _, p_id, _ = line.rstrip().split('\\t')\n",
    "        q_ids.add(q_id)\n",
    "        dev_gold_pids.add(p_id)\n",
    "print(f'{len(q_ids):,}')  # 509,919 = 502,939 + 6,980\n",
    "print(f'{len(dev_gold_pids):,}')  # 7,433\n",
    "\n",
    "if not os.path.exists('data/msmarco-passage/pids.dev.small.gold.txt'):\n",
    "    with open('data/msmarco-passage/pids.dev.small.gold.txt', 'w') as f:\n",
    "        for p_id in sorted(dev_gold_pids, key=lambda x: int(x)):\n",
    "            f.write(f'{p_id}\\n')"
   ]
  },
  {
   "cell_type": "code",
   "execution_count": 6,
   "id": "c47ff4a6-4e03-450e-bebb-108a424f683b",
   "metadata": {},
   "outputs": [
    {
     "name": "stdout",
     "output_type": "stream",
     "text": [
      "523,598\n"
     ]
    }
   ],
   "source": [
    "gold_pids = train_gold_pids | dev_gold_pids\n",
    "print(f'{len(gold_pids):,}')  # 523,598\n",
    "\n",
    "if not os.path.exists('data/msmarco-passage/pids.gold.txt'):\n",
    "    with open('data/msmarco-passage/pids.gold.txt', 'w') as f:\n",
    "        for p_id in sorted(gold_pids, key=lambda x: int(x)):\n",
    "            f.write(f'{p_id}\\n')"
   ]
  },
  {
   "cell_type": "raw",
   "id": "1a6c5467-16e6-4186-b13e-25419854e2c8",
   "metadata": {
    "tags": []
   },
   "source": [
    "import collections\n",
    "import glob\n",
    "\n",
    "# bm25tuned 502,930\n",
    "# expanded-bm25tuned 502,931\n",
    "# unicoil-b8 502,939\n",
    "for file_name in sorted(glob.glob('data/msmarco-passage/run/*.train.tsv')):\n",
    "    retrieval_method = file_name.split('/')[-1].split('.')[0]\n",
    "    if os.path.exists(f'{file_name[:-4]}.json'):\n",
    "        continue\n",
    "    retrieval_result = collections.defaultdict(list)\n",
    "    with open(file_name) as f:\n",
    "        for line in f:\n",
    "            q_id, p_id, rank = line.rstrip().split('\\t')\n",
    "            if q_id not in q_ids:\n",
    "                continue\n",
    "            rank = int(rank)\n",
    "            assert rank == len(retrieval_result[q_id]) + 1\n",
    "            retrieval_result[q_id].append(p_id)\n",
    "    print(f'{retrieval_method} {len(retrieval_result):,}')\n",
    "    with open(f'{file_name[:-4]}.json', 'w') as f:\n",
    "        json.dump(retrieval_result, f, indent=2)"
   ]
  },
  {
   "cell_type": "code",
   "execution_count": 9,
   "id": "7f396e15-21b9-47cc-a1b2-60349733c1ca",
   "metadata": {},
   "outputs": [
    {
     "data": {
      "application/vnd.jupyter.widget-view+json": {
       "model_id": "d3cb876e304042e7bd2500a798050786",
       "version_major": 2,
       "version_minor": 0
      },
      "text/plain": [
       "HBox(children=(FloatProgress(value=0.0, max=40433869.0), HTML(value='')))"
      ]
     },
     "metadata": {},
     "output_type": "display_data"
    },
    {
     "name": "stdout",
     "output_type": "stream",
     "text": [
      "\n",
      "bm25tuned 1,629,659\n"
     ]
    },
    {
     "data": {
      "application/vnd.jupyter.widget-view+json": {
       "model_id": "816ddf3a8cab496a9662d73370fb4a7b",
       "version_major": 2,
       "version_minor": 0
      },
      "text/plain": [
       "HBox(children=(FloatProgress(value=0.0, max=40434110.0), HTML(value='')))"
      ]
     },
     "metadata": {},
     "output_type": "display_data"
    },
    {
     "name": "stdout",
     "output_type": "stream",
     "text": [
      "\n",
      "expanded-bm25tuned 2,806,293\n"
     ]
    },
    {
     "data": {
      "application/vnd.jupyter.widget-view+json": {
       "model_id": "6b0e42563a8c42afb12396a8af2f0dd0",
       "version_major": 2,
       "version_minor": 0
      },
      "text/plain": [
       "HBox(children=(FloatProgress(value=0.0, max=40436550.0), HTML(value='')))"
      ]
     },
     "metadata": {},
     "output_type": "display_data"
    },
    {
     "name": "stdout",
     "output_type": "stream",
     "text": [
      "\n",
      "unicoil-b8 3,409,557\n",
      "3,531,017\n"
     ]
    }
   ],
   "source": [
    "import glob\n",
    "\n",
    "top_k = 5\n",
    "top_pids = set()\n",
    "\n",
    "for file_name in sorted(glob.glob('data/msmarco-passage/run/*.train.tsv')):\n",
    "    retrieval_method = file_name.split('/')[-1].split('.')[0]\n",
    "    with open(file_name) as f:\n",
    "        for line in tqdm(f.readlines()):\n",
    "            q_id, p_id, rank = line.rstrip().split('\\t')\n",
    "            if q_id not in q_ids:\n",
    "                continue\n",
    "            rank = int(rank)\n",
    "            if rank <= top_k:\n",
    "                top_pids.add(p_id)\n",
    "    print(f'{retrieval_method} {len(top_pids):,}')\n",
    "\n",
    "top_pids.update(gold_pids)\n",
    "print(f'{len(top_pids):,}')\n",
    "# gold: 516,472\n",
    "#    1: 1,330,614 6.2GB\n",
    "#    2: 1,999,058 9.3GB\n",
    "#    3: 2,574,081 11.6GB\n",
    "#    5: 3,526,992 16.1GB    3,531,017\n",
    "#   10: 5,172,700 23.2(27.2)GB\n",
    "#   20: 6,882,374 32.0GB\n",
    "#  all: 8,841,823 40.5GB\n",
    "\n",
    "with open(f'data/msmarco-passage/pids.train-top{top_k}.txt', 'w') as f:\n",
    "    for p_id in sorted(top_pids, key=lambda x: int(x)):\n",
    "        f.write(f'{p_id}\\n')"
   ]
  },
  {
   "cell_type": "markdown",
   "id": "ef745c1a-02bc-4a84-94b1-6fe5a2360692",
   "metadata": {
    "tags": []
   },
   "source": [
    "## Build index"
   ]
  },
  {
   "cell_type": "code",
   "execution_count": 10,
   "id": "042a1c08-38c5-4960-a153-662f24be2ed4",
   "metadata": {
    "tags": []
   },
   "outputs": [
    {
     "data": {
      "application/vnd.jupyter.widget-view+json": {
       "model_id": "21c54e90ca5f4b4a8d81070fa5ffbb46",
       "version_major": 2,
       "version_minor": 0
      },
      "text/plain": [
       "HBox(children=(FloatProgress(value=0.0), HTML(value='')))"
      ]
     },
     "metadata": {},
     "output_type": "display_data"
    },
    {
     "name": "stdout",
     "output_type": "stream",
     "text": [
      "\n",
      "27668\n",
      "269 0\n",
      "CPU times: user 9min 12s, sys: 34.6 s, total: 9min 47s\n",
      "Wall time: 9min 47s\n"
     ]
    }
   ],
   "source": [
    "%%time\n",
    "# CPU times: user 13min 23s, sys: 56.1 s, total: 14min 19s\n",
    "# Wall time: 14min 17s\n",
    "# 40.5GB\n",
    "import glob\n",
    "import gzip\n",
    "\n",
    "inverted_index = {}\n",
    "\n",
    "max_weight, min_weight = float('-inf'), float('inf')\n",
    "\n",
    "for file_name in tqdm(sorted(glob.glob('data/msmarco-passage/vec/unicoil-b8/*.jsonl.gz'))):\n",
    "    with gzip.open(file_name, 'r') as f:\n",
    "        for line in f:\n",
    "            p = json.loads(line)\n",
    "            p_id = p['id']\n",
    "            if p_id not in top_pids:\n",
    "                continue\n",
    "            for term, weight in p['vector'].items():\n",
    "                if weight < min_weight:\n",
    "                    min_weight = weight\n",
    "                elif weight > max_weight:\n",
    "                    max_weight = weight\n",
    "                if weight <= 0:\n",
    "                    assert weight == 0, f\"'{term}' = {weight}\"\n",
    "                    continue\n",
    "                if term == '[SEP]':\n",
    "                    continue\n",
    "                if term not in inverted_index:\n",
    "                    inverted_index[term] = []\n",
    "                inverted_index[term].append((p_id, weight))\n",
    "            # del p\n",
    "print(len(inverted_index))  # 27677\n",
    "print(max_weight, min_weight)  # 270 0"
   ]
  },
  {
   "cell_type": "code",
   "execution_count": 11,
   "id": "b2652d90-c8a0-45c0-8f71-47924218b312",
   "metadata": {},
   "outputs": [
    {
     "name": "stdout",
     "output_type": "stream",
     "text": [
      "CPU times: user 2min 22s, sys: 54.7 s, total: 3min 17s\n",
      "Wall time: 3min 16s\n"
     ]
    }
   ],
   "source": [
    "%%time\n",
    "# CPU times: user 6min 1s, sys: 1min 41s, total: 7min 42s\n",
    "# Wall time: 8min 5s\n",
    "with open(f'data/msmarco-passage/index/unicoil-b8.top{top_k}.pkl', 'wb') as f:\n",
    "    cPickle.dump(inverted_index, f)"
   ]
  },
  {
   "cell_type": "raw",
   "id": "8e376579-5f68-4ccb-b08b-4605455b5a6b",
   "metadata": {},
   "source": [
    "%%time\n",
    "# CPU times: user 5min 34s, sys: 1min 10s, total: 6min 44s\n",
    "# Wall time: 6min 46s\n",
    "with open('data/msmarco-passage/unicoil-b8.tsv', 'w', encoding='utf-8') as f:\n",
    "    for term, postings in inverted_index.items():\n",
    "        f.write(f\"{term}\\t{json.dumps(postings, ensure_ascii=False)}\\n\")"
   ]
  },
  {
   "cell_type": "raw",
   "id": "aef04cb6-a9de-48ca-87fd-5e699ddb0726",
   "metadata": {},
   "source": [
    "%%time\n",
    "# CPU times: user 26min 45s, sys: 37.6 s, total: 27min 22s\n",
    "# Wall time: 27min 17s\n",
    "with open('data/msmarco-passage/unicoil-b8.json', 'w', encoding='utf-8') as f:\n",
    "    json.dump(inverted_index, f, ensure_ascii=False)"
   ]
  },
  {
   "cell_type": "markdown",
   "id": "8d1eb8ec-0412-4499-91b0-3bc762baa239",
   "metadata": {
    "tags": []
   },
   "source": [
    "## Load index"
   ]
  },
  {
   "cell_type": "code",
   "execution_count": 12,
   "id": "c5cd7722-e8bc-4da8-ad0f-874b3759a882",
   "metadata": {},
   "outputs": [],
   "source": [
    "section = 'top5'"
   ]
  },
  {
   "cell_type": "code",
   "execution_count": 13,
   "id": "f07b361e-53f4-4575-b4e0-e1d8005574e3",
   "metadata": {},
   "outputs": [
    {
     "name": "stdout",
     "output_type": "stream",
     "text": [
      "3531017 3531017\n"
     ]
    }
   ],
   "source": [
    "from util import load_pids\n",
    "\n",
    "pids, pid2idx = load_pids(f'data/msmarco-passage/pids.train-{section}.txt')\n",
    "print(len(pids), len(pid2idx))"
   ]
  },
  {
   "cell_type": "code",
   "execution_count": 5,
   "id": "a19048e1-76ee-40b6-b08b-8b11b25c5d8f",
   "metadata": {
    "tags": []
   },
   "outputs": [
    {
     "name": "stdout",
     "output_type": "stream",
     "text": [
      "27668\n",
      "CPU times: user 53.1 s, sys: 10.6 s, total: 1min 3s\n",
      "Wall time: 1min 3s\n"
     ]
    }
   ],
   "source": [
    "%%time\n",
    "# CPU times: 2min 10s, sys: 27.3 s, total: 2min 37s\n",
    "# Wall time: 2min 37s\n",
    "# all: 40.5GB (48GB)\n",
    "with open(f'data/msmarco-passage/index/unicoil-b8.{section}.pkl', 'rb') as f:\n",
    "    inverted_index = cPickle.load(f)\n",
    "print(len(inverted_index))"
   ]
  },
  {
   "cell_type": "raw",
   "id": "72e7519c-787b-4f12-b14f-1f098ed0ede5",
   "metadata": {
    "tags": []
   },
   "source": [
    "%%time\n",
    "# CPU times: user 5min 29s, sys: 1min 9s, total: 6min 38s\n",
    "# Wall time: 6min 38s\n",
    "# 89.0GB\n",
    "inverted_index = {}\n",
    "with open('data/msmarco-passage/unicoil-b8.tsv', encoding='utf-8') as f:\n",
    "    for line in f:\n",
    "        term, postings_str = line.split('\\t')\n",
    "        postings = json.loads(postings_str)\n",
    "        inverted_index[term] = postings\n",
    "        del postings_str, line\n",
    "print(len(inverted_index))"
   ]
  },
  {
   "cell_type": "raw",
   "id": "dbd77ce2-a90b-4e89-8a54-f05c63d6d9aa",
   "metadata": {
    "tags": []
   },
   "source": [
    "%%time\n",
    "# CPU times: user 6min, sys: 1min 50s, total: 7min 51s\n",
    "# Wall time: 7min 49s\n",
    "# 88.8GB\n",
    "with open('data/msmarco-passage/unicoil-b8.json', encoding='utf-8') as f:\n",
    "    inverted_index = json.load(f)\n",
    "print(len(inverted_index))"
   ]
  },
  {
   "cell_type": "markdown",
   "id": "ace213a4-25a7-4b9e-bfda-509531e7a812",
   "metadata": {
    "tags": []
   },
   "source": [
    "## Retrieval"
   ]
  },
  {
   "cell_type": "code",
   "execution_count": 14,
   "id": "eafb5d18-9635-494a-9c30-e472d6d9c528",
   "metadata": {},
   "outputs": [],
   "source": [
    "import time\n",
    "import torch\n",
    "from transformers import AutoTokenizer\n",
    "tokenizer = AutoTokenizer.from_pretrained('bert-base-uncased')"
   ]
  },
  {
   "cell_type": "code",
   "execution_count": 15,
   "id": "f63d4d1c-61d9-4f14-8c29-11ae0d487e66",
   "metadata": {},
   "outputs": [],
   "source": [
    "n_p = len(pids)\n",
    "n_t = len(tokenizer.vocab)"
   ]
  },
  {
   "cell_type": "code",
   "execution_count": 16,
   "id": "0cf98955-e162-4e74-b7e2-9cb766bade59",
   "metadata": {
    "tags": []
   },
   "outputs": [
    {
     "name": "stdout",
     "output_type": "stream",
     "text": [
      "226,058,431\n",
      " 0.210%\n"
     ]
    }
   ],
   "source": [
    "# top1: 1.9GB, top5: 4.3GB, top10: 7.6GB\n",
    "indices = ([], [])\n",
    "values = []\n",
    "for term, postings in inverted_index.items():\n",
    "    t_idx = tokenizer.vocab[term]\n",
    "    for p_id, weight in postings:\n",
    "        p_idx = pid2idx[p_id]\n",
    "        indices[0].append(p_idx)\n",
    "        indices[1].append(t_idx)\n",
    "        values.append(weight)\n",
    "print(f'{len(values):,}')\n",
    "print(f'{len(values) / (n_p * n_t) * 100: .3f}%')  # 0.213%"
   ]
  },
  {
   "cell_type": "code",
   "execution_count": 10,
   "id": "87c58f3d-6494-469a-8d58-24680a632386",
   "metadata": {},
   "outputs": [],
   "source": [
    "csr_Q = None\n",
    "dense_Q = None\n",
    "dense_Q_ = None\n",
    "dense_P = None\n",
    "dense_P_ = None\n",
    "S = None"
   ]
  },
  {
   "cell_type": "code",
   "execution_count": 19,
   "id": "b280bfef-bd07-4ccd-8570-df0488c2109c",
   "metadata": {
    "tags": []
   },
   "outputs": [],
   "source": [
    "# top1: 1.6GB, top5: 4.3GB, top10: 6.4GB\n",
    "coo_P_cpu = torch.sparse_coo_tensor(indices, values, size=(n_p, n_t), dtype=torch.float32, device='cpu', requires_grad=False)\n",
    "torch.save(coo_P_cpu, f'data/msmarco-passage/matrix/unicoil-b8.coo-{section}.pt')\n",
    "# csr_P_cpu = coo_P_cpu.to_sparse_csr()"
   ]
  },
  {
   "cell_type": "code",
   "execution_count": 20,
   "id": "248f635d-d90e-45a9-bbac-afa5e873c511",
   "metadata": {},
   "outputs": [],
   "source": [
    "import numpy as np\n",
    "from scipy.sparse import coo_matrix, csc_matrix, csr_matrix, lil_matrix, save_npz, load_npz"
   ]
  },
  {
   "cell_type": "code",
   "execution_count": 21,
   "id": "7a6faf29-0d6c-4c30-8b0b-0739f61d6ddf",
   "metadata": {},
   "outputs": [],
   "source": [
    "# support indexing, slicing and dot\n",
    "csr_P = csr_matrix((values, indices), shape=(n_p, n_t), dtype=np.float32)\n",
    "save_npz(f'data/msmarco-passage/matrix/unicoil-b8.csr-{section}.npz', csr_P)\n",
    "# csr_P = load_npz(f'data/msmarco-passage/matrix/unicoil-b8.csr-{section}.npz')"
   ]
  },
  {
   "cell_type": "code",
   "execution_count": 22,
   "id": "f6055fe9-618e-414b-956a-bb2c75b6e729",
   "metadata": {},
   "outputs": [],
   "source": [
    "csc_P = csr_P.tocsc(copy=False)"
   ]
  },
  {
   "cell_type": "code",
   "execution_count": 23,
   "id": "16739b99-43e5-41cc-ac51-802726a033e0",
   "metadata": {},
   "outputs": [
    {
     "data": {
      "text/plain": [
       "matrix([[102., 119.,  68., ...,  95.,  65.,  77.]], dtype=float32)"
      ]
     },
     "execution_count": 23,
     "metadata": {},
     "output_type": "execute_result"
    }
   ],
   "source": [
    "csc_P[csc_P[:, :999].nonzero()]"
   ]
  },
  {
   "cell_type": "code",
   "execution_count": 24,
   "id": "f9e971c8-61ad-4cba-8feb-a12938f622a1",
   "metadata": {},
   "outputs": [
    {
     "data": {
      "text/plain": [
       "<3531017x999 sparse matrix of type '<class 'numpy.float32'>'\n",
       "\twith 10087 stored elements in Compressed Sparse Column format>"
      ]
     },
     "execution_count": 24,
     "metadata": {},
     "output_type": "execute_result"
    }
   ],
   "source": [
    "csc_P[:, :999]"
   ]
  },
  {
   "cell_type": "code",
   "execution_count": 25,
   "id": "de0a9158-8880-4773-9e2d-02a9198bdede",
   "metadata": {},
   "outputs": [
    {
     "data": {
      "text/plain": [
       "<3531017x1 sparse matrix of type '<class 'numpy.float32'>'\n",
       "\twith 5 stored elements in Compressed Sparse Column format>"
      ]
     },
     "execution_count": 25,
     "metadata": {},
     "output_type": "execute_result"
    }
   ],
   "source": [
    "csc_P[:, 0]"
   ]
  },
  {
   "cell_type": "code",
   "execution_count": 26,
   "id": "d7542a51-b4ab-4701-a2b9-8a2093e19072",
   "metadata": {},
   "outputs": [
    {
     "data": {
      "text/plain": [
       "<3531017x1 sparse matrix of type '<class 'numpy.float32'>'\n",
       "\twith 10082 stored elements in Compressed Sparse Column format>"
      ]
     },
     "execution_count": 26,
     "metadata": {},
     "output_type": "execute_result"
    }
   ],
   "source": [
    "csc_P[:, 100]"
   ]
  },
  {
   "cell_type": "code",
   "execution_count": 29,
   "id": "4b05275b-70a9-4ed4-8c40-9fbe37aae2d5",
   "metadata": {},
   "outputs": [
    {
     "data": {
      "text/plain": [
       "<3531017x1 sparse matrix of type '<class 'numpy.float32'>'\n",
       "\twith 0 stored elements in Compressed Sparse Column format>"
      ]
     },
     "execution_count": 29,
     "metadata": {},
     "output_type": "execute_result"
    }
   ],
   "source": [
    "csc_P[:, 101]"
   ]
  },
  {
   "cell_type": "code",
   "execution_count": 32,
   "id": "f032db80-e8f5-44ad-8330-eedaf183ab4c",
   "metadata": {},
   "outputs": [
    {
     "data": {
      "text/plain": [
       "'[unused993]'"
      ]
     },
     "execution_count": 32,
     "metadata": {},
     "output_type": "execute_result"
    }
   ],
   "source": [
    "tokenizer.decode(998)"
   ]
  },
  {
   "cell_type": "code",
   "execution_count": 38,
   "id": "9dac9566-0a52-40c9-9841-784f08f589ea",
   "metadata": {},
   "outputs": [
    {
     "ename": "TypeError",
     "evalue": "get_special_tokens_mask() missing 1 required positional argument: 'token_ids_0'",
     "output_type": "error",
     "traceback": [
      "\u001b[0;31m---------------------------------------------------------------------------\u001b[0m",
      "\u001b[0;31mTypeError\u001b[0m                                 Traceback (most recent call last)",
      "\u001b[0;32m<ipython-input-38-e7a641bbeb85>\u001b[0m in \u001b[0;36m<module>\u001b[0;34m()\u001b[0m\n\u001b[0;32m----> 1\u001b[0;31m \u001b[0mtokenizer\u001b[0m\u001b[0;34m.\u001b[0m\u001b[0mget_special_tokens_mask\u001b[0m\u001b[0;34m(\u001b[0m\u001b[0;34m)\u001b[0m\u001b[0;34m\u001b[0m\u001b[0;34m\u001b[0m\u001b[0m\n\u001b[0m",
      "\u001b[0;31mTypeError\u001b[0m: get_special_tokens_mask() missing 1 required positional argument: 'token_ids_0'"
     ]
    }
   ],
   "source": [
    "tokenizer.get_special_tokens_mask()"
   ]
  },
  {
   "cell_type": "code",
   "execution_count": 44,
   "id": "50f5e181-56da-4401-a732-875772fe4a16",
   "metadata": {},
   "outputs": [
    {
     "data": {
      "text/plain": [
       "12739.0"
      ]
     },
     "execution_count": 44,
     "metadata": {},
     "output_type": "execute_result"
    }
   ],
   "source": [
    "csr_P.sum(1).max()"
   ]
  },
  {
   "cell_type": "code",
   "execution_count": 49,
   "id": "36daae14-0de8-45dc-8eca-b63f1f9eb08e",
   "metadata": {},
   "outputs": [],
   "source": [
    "label = torch.zeros(1, dtype=torch.long)"
   ]
  },
  {
   "cell_type": "code",
   "execution_count": 51,
   "id": "027506c0-1286-4f7e-a579-bee7bbf221ad",
   "metadata": {},
   "outputs": [],
   "source": [
    "cross_entropy = torch.nn.CrossEntropyLoss()"
   ]
  },
  {
   "cell_type": "code",
   "execution_count": 94,
   "id": "d7ff30a2-684d-497d-bcef-28f2345b72ae",
   "metadata": {},
   "outputs": [
    {
     "data": {
      "text/plain": [
       "tensor(0.)"
      ]
     },
     "execution_count": 94,
     "metadata": {},
     "output_type": "execute_result"
    }
   ],
   "source": [
    "torch.zeros((1, 3526992)).std()"
   ]
  },
  {
   "cell_type": "code",
   "execution_count": 105,
   "id": "7a7e8bda-12e4-4483-9ce4-e2ac19a581c9",
   "metadata": {},
   "outputs": [
    {
     "name": "stdout",
     "output_type": "stream",
     "text": [
      "tensor([[9., 0., 0.,  ..., 0., 0., 0.]])\n"
     ]
    }
   ],
   "source": [
    "logits = torch.zeros((1, 3526992))\n",
    "logits[0, 0] = 9\n",
    "print(logits)"
   ]
  },
  {
   "cell_type": "code",
   "execution_count": 106,
   "id": "ae426b7a-8435-4225-8187-c35c27114b12",
   "metadata": {},
   "outputs": [
    {
     "data": {
      "text/plain": [
       "tensor(6.0747)"
      ]
     },
     "execution_count": 106,
     "metadata": {},
     "output_type": "execute_result"
    }
   ],
   "source": [
    "cross_entropy(logits, label)"
   ]
  },
  {
   "cell_type": "raw",
   "id": "076f5ef9-4380-43bd-9558-accfa8ac7b59",
   "metadata": {},
   "source": [
    "# does not support indexing and slicing\n",
    "coo_P = csr_P.tocoo(copy=False)  # coo_matrix((values, indices), shape=(n_p, n_t), dtype=np.float32)"
   ]
  },
  {
   "cell_type": "raw",
   "id": "bd5d6375-f197-475d-b34d-8cb2ca282108",
   "metadata": {},
   "source": [
    "# slow row slicing\n",
    "lil_P = csr_P.tolil(copy=False)"
   ]
  },
  {
   "cell_type": "code",
   "execution_count": 20,
   "id": "f3155ebe-c7b3-4c2f-b189-7777c4f03aa6",
   "metadata": {
    "tags": []
   },
   "outputs": [],
   "source": [
    "del indices, values"
   ]
  },
  {
   "cell_type": "code",
   "execution_count": 107,
   "id": "7f867f71-a830-4d24-bd31-c1820e89e339",
   "metadata": {},
   "outputs": [],
   "source": [
    "if dense_Q_ is not None:\n",
    "    del dense_Q_\n",
    "    dense_Q_ = None\n",
    "sparse_ratio = 0.0001\n",
    "dense_Q_ = (torch.rand((128, n_t), dtype=torch.float, device='cuda:0', requires_grad=True) - 1 + sparse_ratio).relu() / sparse_ratio"
   ]
  },
  {
   "cell_type": "code",
   "execution_count": 112,
   "id": "398e5f7c-5b3e-42e2-a295-29700fa73870",
   "metadata": {},
   "outputs": [
    {
     "name": "stdout",
     "output_type": "stream",
     "text": [
      "CPU times: user 3 µs, sys: 0 ns, total: 3 µs\n",
      "Wall time: 5.25 µs\n"
     ]
    }
   ],
   "source": [
    "%time\n",
    "if dense_Q is not None:\n",
    "    del dense_Q, csr_Q\n",
    "    dense_Q = None\n",
    "    csr_Q = None\n",
    "dense_Q = dense_Q_.t().detach().cpu().numpy()\n",
    "csr_Q = csr_matrix(dense_Q)"
   ]
  },
  {
   "cell_type": "code",
   "execution_count": 116,
   "id": "b4aa6a2c-d8b1-44d5-a085-33d0bf8d89de",
   "metadata": {},
   "outputs": [
    {
     "name": "stdout",
     "output_type": "stream",
     "text": [
      "CPU times: user 2 µs, sys: 0 ns, total: 2 µs\n",
      "Wall time: 4.77 µs\n",
      "17.25717329978943\n",
      "(3526992, 128)\n"
     ]
    }
   ],
   "source": [
    "%time\n",
    "# CPU times: user 3 µs, sys: 0 ns, total: 3 µs\n",
    "# Wall time: 5.96 µs\n",
    "# 17.815178632736206\n",
    "# (3526992, 128)\n",
    "if S is not None:\n",
    "    del S\n",
    "    S = None\n",
    "start = time.time()\n",
    "S = csr_P.dot(dense_Q)\n",
    "print(time.time() - start)\n",
    "print(S.shape)"
   ]
  },
  {
   "cell_type": "code",
   "execution_count": 114,
   "id": "b197d892-7325-413b-88b7-cf493b0aedf3",
   "metadata": {},
   "outputs": [
    {
     "name": "stdout",
     "output_type": "stream",
     "text": [
      "CPU times: user 2 µs, sys: 1e+03 ns, total: 3 µs\n",
      "Wall time: 4.77 µs\n",
      "0.6629660129547119\n",
      "(3526992, 128)\n"
     ]
    }
   ],
   "source": [
    "%time\n",
    "# CPU times: user 2 µs, sys: 0 ns, total: 2 µs\n",
    "# Wall time: 4.77 µs\n",
    "# 0.6674365997314453\n",
    "# (3526992, 128)\n",
    "if S is not None:\n",
    "    del S\n",
    "    S = None\n",
    "start = time.time()\n",
    "S = csr_P.dot(csr_Q)\n",
    "print(time.time() - start)\n",
    "print(S.shape)"
   ]
  },
  {
   "cell_type": "code",
   "execution_count": 36,
   "id": "afe6d064-ac04-4f43-835f-181ec691f33a",
   "metadata": {},
   "outputs": [],
   "source": [
    "row_indices = np.random.randint(0, n_p, (10000,))"
   ]
  },
  {
   "cell_type": "code",
   "execution_count": 130,
   "id": "273480d4-e787-4b62-b519-eb26015f1b49",
   "metadata": {},
   "outputs": [
    {
     "name": "stdout",
     "output_type": "stream",
     "text": [
      "CPU times: user 82.8 ms, sys: 474 ms, total: 557 ms\n",
      "Wall time: 557 ms\n"
     ]
    }
   ],
   "source": [
    "%%time\n",
    "# todense: 360 377 379 384 395 ms\n",
    "# toarray: 377 378 379 379 391 ms\n",
    "if dense_P is not None:\n",
    "    del dense_P\n",
    "    dense_P = None\n",
    "dense_P = csr_P[row_indices].toarray()"
   ]
  },
  {
   "cell_type": "code",
   "execution_count": 44,
   "id": "82724fe2-979a-473e-a9ab-ff819a96f4c0",
   "metadata": {},
   "outputs": [
    {
     "name": "stdout",
     "output_type": "stream",
     "text": [
      "CPU times: user 228 ms, sys: 1.96 ms, total: 230 ms\n",
      "Wall time: 230 ms\n"
     ]
    }
   ],
   "source": [
    "%%time\n",
    "if dense_P_ is not None:\n",
    "    del dense_P_\n",
    "    dense_P_ = None\n",
    "dense_P_ = torch.as_tensor(dense_P, device='cuda:0')\n",
    "# dense_P_ = torch.from_numpy(dense_P).to('cuda:0')"
   ]
  },
  {
   "cell_type": "code",
   "execution_count": null,
   "id": "603034f5-51f1-48ff-8598-4f06d89bc7fa",
   "metadata": {},
   "outputs": [],
   "source": [
    "dense_"
   ]
  },
  {
   "cell_type": "code",
   "execution_count": 13,
   "id": "eb34dc22-8a1f-45a4-b988-5c66bb5bcae1",
   "metadata": {},
   "outputs": [],
   "source": [
    "# top1: 4.4GB, top5: 12.1GB, top10: 14.0(12.8)GB\n",
    "__P = _P.to_sparse_csr()\n",
    "torch.cuda.empty_cache()\n",
    "assert __P.size(0) == n_p\n",
    "# cannot torch.save"
   ]
  },
  {
   "cell_type": "code",
   "execution_count": 68,
   "id": "909903e6-b483-4049-bb5d-5c751aedbbe3",
   "metadata": {},
   "outputs": [],
   "source": [
    "# del Z, Q #, _Q\n",
    "torch.cuda.empty_cache()"
   ]
  },
  {
   "cell_type": "raw",
   "id": "f2ad75ad-7c1b-45af-8b40-7be6e5a3d590",
   "metadata": {
    "tags": []
   },
   "source": [
    "_Q = Q.to_sparse()\n",
    "# Q_cpu = Q.cpu()\n",
    "# _Q_cpu = _Q.cpu()"
   ]
  },
  {
   "cell_type": "raw",
   "id": "4e831f92-a25e-44f7-98d1-57b22b58acdf",
   "metadata": {
    "tags": []
   },
   "source": [
    "%%time\n",
    "# On GPU, both of P and Q are dense\n",
    "S = torch.mm(P, Q)"
   ]
  },
  {
   "cell_type": "code",
   "execution_count": 73,
   "id": "c9658ae6-8c06-4e97-9e16-b3b07f604d80",
   "metadata": {},
   "outputs": [
    {
     "name": "stdout",
     "output_type": "stream",
     "text": [
      "CPU times: user 9.73 ms, sys: 11.1 ms, total: 20.8 ms\n",
      "Wall time: 122 ms\n"
     ]
    }
   ],
   "source": [
    "%%time\n",
    "# On GPU, P is sparse\n",
    "# 64:  2.48 5.38 10.2 ms; 2 MiB    (452 484 491 511 572 µs)\n",
    "# 128: 8.99 12.2 16.9 ms; 652 MiB\n",
    "# 256: 8.67 11.4 12.6 13.2 15 22.2 187 832 ms; 2602 MiB\n",
    "# 1024: 795 µs, 31.3 34 37.7 48.5 70.1 114 161 ms\n",
    "csr_S = __P.matmul(Q)"
   ]
  },
  {
   "cell_type": "code",
   "execution_count": 74,
   "id": "a80d6a1e-4f48-4651-b2b1-a3899550a291",
   "metadata": {},
   "outputs": [
    {
     "data": {
      "text/plain": [
       "torch.Size([5172700, 128])"
      ]
     },
     "execution_count": 74,
     "metadata": {},
     "output_type": "execute_result"
    }
   ],
   "source": [
    "csr_S.size()"
   ]
  },
  {
   "cell_type": "code",
   "execution_count": 75,
   "id": "0c995a26-2ecc-4def-8e2a-c1c67a840f50",
   "metadata": {},
   "outputs": [],
   "source": [
    "del csr_S\n",
    "torch.cuda.empty_cache()"
   ]
  },
  {
   "cell_type": "raw",
   "id": "184a4d54-218c-4e72-846a-d33f1c26c23d",
   "metadata": {
    "tags": []
   },
   "source": [
    "%%time\n",
    "# On GPU, P is sparse\n",
    "# 64: 88.7 93.1 96.1 ms; 2542 MiB\n",
    "# 128: 88.9 92.6 93.2 ms; 31278 MiB\n",
    "# 256: 85.4 97.8 105 106 107 109 113 116 162 ms; 5142 MiB\n",
    "# 1024: 106 288 ms\n",
    "S = torch.sparse.mm(_P, Q)"
   ]
  },
  {
   "cell_type": "raw",
   "id": "1d60e44b-8eb5-4397-924a-77f9a87cb112",
   "metadata": {
    "tags": []
   },
   "source": [
    "%%time\n",
    "# On GPU, both of P and Q are sparse\n",
    "# 64: 249 253 258 ms\n",
    "# 256: 1.19 1.21 1.22 s; 10340 MiB\n",
    "_S = torch.sparse.mm(_P, _Q)"
   ]
  },
  {
   "cell_type": "raw",
   "id": "f741e98c-4364-4fef-8855-5117567e7180",
   "metadata": {
    "tags": []
   },
   "source": [
    "%%time\n",
    "# On CPU, P is sparse\n",
    "# 64: 5.05 5.22 5.3 s\n",
    "csr_S_cpu = csr_P_cpu.matmul(Q_cpu)"
   ]
  },
  {
   "cell_type": "raw",
   "id": "85cac54b-a935-4d91-9556-e7caa4897a2b",
   "metadata": {
    "tags": []
   },
   "source": [
    "%%time\n",
    "# On CPU, P are sparse\n",
    "# 64: 8.36 s\n",
    "S_cpu = torch.sparse.mm(coo_P_cpu, Q_cpu)"
   ]
  },
  {
   "cell_type": "raw",
   "id": "a3678839-0cda-423a-98c4-59e53b970f3d",
   "metadata": {
    "tags": []
   },
   "source": [
    "%%time\n",
    "# On CPU, both of P and Q are sparse\n",
    "# 64: 23 s\n",
    "_S_cpu = torch.sparse.mm(coo_P_cpu, _Q_cpu)"
   ]
  },
  {
   "cell_type": "raw",
   "id": "fa6689a7-1a15-4a06-b1b0-5f47e26f9409",
   "metadata": {
    "tags": []
   },
   "source": [
    "Dense Q\n",
    "    CPU:\n",
    "      0.1: dense < sparse\n",
    "      0.01: dense > sparse\n",
    "    GPU:\n",
    "      0.1: dense < sparse\n",
    "      0.01: dense < sparse\n",
    "      0.000001: dense ~= sparse"
   ]
  },
  {
   "cell_type": "raw",
   "id": "e884086f-c072-44dc-b003-cbc7bda971a3",
   "metadata": {
    "tags": []
   },
   "source": [
    "Sparse Q\n",
    "    CPU:\n",
    "      0.1: dense < sparse\n",
    "      0.01: dense > sparse\n",
    "    GPU:\n",
    "      0.1: dense < sparse\n",
    "      0.01: dense ~= sparse\n",
    "      0.000001: dense ~= sparse"
   ]
  },
  {
   "cell_type": "markdown",
   "id": "8df86db3-aed5-402d-a836-fac71235bfb4",
   "metadata": {},
   "source": [
    "## try"
   ]
  },
  {
   "cell_type": "code",
   "execution_count": null,
   "id": "c90c1fc5-678b-45da-b9f3-8c3a0dd9acf1",
   "metadata": {},
   "outputs": [],
   "source": []
  }
 ],
 "metadata": {
  "kernelspec": {
   "display_name": "Python 3",
   "language": "python",
   "name": "python3"
  },
  "language_info": {
   "codemirror_mode": {
    "name": "ipython",
    "version": 3
   },
   "file_extension": ".py",
   "mimetype": "text/x-python",
   "name": "python",
   "nbconvert_exporter": "python",
   "pygments_lexer": "ipython3",
   "version": "3.6.13"
  },
  "widgets": {
   "application/vnd.jupyter.widget-state+json": {
    "state": {},
    "version_major": 2,
    "version_minor": 0
   }
  }
 },
 "nbformat": 4,
 "nbformat_minor": 5
}

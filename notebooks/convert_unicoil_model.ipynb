{
 "cells": [
  {
   "cell_type": "code",
   "execution_count": 1,
   "id": "503d5220-1447-4a3d-a955-4ce52d24706a",
   "metadata": {},
   "outputs": [],
   "source": [
    "from transformers import AutoTokenizer, AutoModel\n",
    "from pyserini.encode import UniCoilEncoder"
   ]
  },
  {
   "cell_type": "code",
   "execution_count": 2,
   "id": "93f08b91-ebc5-47f6-b216-296ae11b14b2",
   "metadata": {},
   "outputs": [],
   "source": [
    "model_name = 'castorini/unicoil-noexp-msmarco-passage'  # 'castorini/unicoil-d2q-msmarco-passage'\n",
    "output_dir= f'ckpts/{model_name}'"
   ]
  },
  {
   "cell_type": "code",
   "execution_count": 3,
   "id": "c7de6310-a184-4b5c-ac85-d190be02e704",
   "metadata": {},
   "outputs": [
    {
     "data": {
      "application/vnd.jupyter.widget-view+json": {
       "model_id": "3679afa69d304e428d343e3589ed3774",
       "version_major": 2,
       "version_minor": 0
      },
      "text/plain": [
       "HBox(children=(FloatProgress(value=0.0, description='Downloading', max=300.0, style=ProgressStyle(description_…"
      ]
     },
     "metadata": {},
     "output_type": "display_data"
    },
    {
     "name": "stdout",
     "output_type": "stream",
     "text": [
      "\n"
     ]
    },
    {
     "data": {
      "application/vnd.jupyter.widget-view+json": {
       "model_id": "b69c2d6b85784064b881b9865a2ca6b4",
       "version_major": 2,
       "version_minor": 0
      },
      "text/plain": [
       "HBox(children=(FloatProgress(value=0.0, description='Downloading', max=677.0, style=ProgressStyle(description_…"
      ]
     },
     "metadata": {},
     "output_type": "display_data"
    },
    {
     "name": "stdout",
     "output_type": "stream",
     "text": [
      "\n"
     ]
    },
    {
     "data": {
      "application/vnd.jupyter.widget-view+json": {
       "model_id": "1b8af4c44dad4fcbb535e0a01fa0f62f",
       "version_major": 2,
       "version_minor": 0
      },
      "text/plain": [
       "HBox(children=(FloatProgress(value=0.0, description='Downloading', max=231508.0, style=ProgressStyle(descripti…"
      ]
     },
     "metadata": {},
     "output_type": "display_data"
    },
    {
     "name": "stdout",
     "output_type": "stream",
     "text": [
      "\n"
     ]
    },
    {
     "data": {
      "application/vnd.jupyter.widget-view+json": {
       "model_id": "4619f19ef7cd4d80940fe418cc863330",
       "version_major": 2,
       "version_minor": 0
      },
      "text/plain": [
       "HBox(children=(FloatProgress(value=0.0, description='Downloading', max=112.0, style=ProgressStyle(description_…"
      ]
     },
     "metadata": {},
     "output_type": "display_data"
    },
    {
     "name": "stdout",
     "output_type": "stream",
     "text": [
      "\n"
     ]
    },
    {
     "data": {
      "application/vnd.jupyter.widget-view+json": {
       "model_id": "cbd3540920cd404a928ab7f57be66ee1",
       "version_major": 2,
       "version_minor": 0
      },
      "text/plain": [
       "HBox(children=(FloatProgress(value=0.0, description='Downloading', max=438008073.0, style=ProgressStyle(descri…"
      ]
     },
     "metadata": {},
     "output_type": "display_data"
    },
    {
     "name": "stdout",
     "output_type": "stream",
     "text": [
      "\n"
     ]
    }
   ],
   "source": [
    "tokenizer = AutoTokenizer.from_pretrained(model_name)\n",
    "model = UniCoilEncoder.from_pretrained(model_name)"
   ]
  },
  {
   "cell_type": "code",
   "execution_count": 4,
   "id": "172761b4-b963-44bf-aa9f-de259c928880",
   "metadata": {},
   "outputs": [
    {
     "data": {
      "text/plain": [
       "('ckpts/castorini/unicoil-noexp-msmarco-passage/tokenizer_config.json',\n",
       " 'ckpts/castorini/unicoil-noexp-msmarco-passage/special_tokens_map.json',\n",
       " 'ckpts/castorini/unicoil-noexp-msmarco-passage/vocab.txt',\n",
       " 'ckpts/castorini/unicoil-noexp-msmarco-passage/added_tokens.json',\n",
       " 'ckpts/castorini/unicoil-noexp-msmarco-passage/tokenizer.json')"
      ]
     },
     "execution_count": 4,
     "metadata": {},
     "output_type": "execute_result"
    }
   ],
   "source": [
    "tokenizer.save_pretrained(output_dir)"
   ]
  },
  {
   "cell_type": "code",
   "execution_count": 5,
   "id": "ac0a94b9-a1e7-4794-8ec2-08b3783d677a",
   "metadata": {},
   "outputs": [],
   "source": [
    "model.bert.save_pretrained(output_dir)"
   ]
  },
  {
   "cell_type": "code",
   "execution_count": 6,
   "id": "124c6334-3989-4978-ab17-f5e60f0420f5",
   "metadata": {},
   "outputs": [],
   "source": [
    "model_dict = model.state_dict()"
   ]
  },
  {
   "cell_type": "code",
   "execution_count": 7,
   "id": "43c4a2dd-00f4-44c1-9169-1583613e1884",
   "metadata": {},
   "outputs": [],
   "source": [
    "encoder_parameter_keys = [k for k in model_dict.keys() if k.startswith('bert')]\n",
    "for k in encoder_parameter_keys:\n",
    "    model_dict.pop(k)"
   ]
  },
  {
   "cell_type": "code",
   "execution_count": 8,
   "id": "06c440b0-f00f-4b83-a6f7-1e73fa5e1700",
   "metadata": {},
   "outputs": [
    {
     "data": {
      "text/plain": [
       "odict_keys(['tok_proj.weight', 'tok_proj.bias'])"
      ]
     },
     "execution_count": 8,
     "metadata": {},
     "output_type": "execute_result"
    }
   ],
   "source": [
    "model_dict.keys()"
   ]
  },
  {
   "cell_type": "code",
   "execution_count": 9,
   "id": "89748c2f-54d9-4f23-a7b8-c701c0c234dd",
   "metadata": {},
   "outputs": [],
   "source": [
    "import os\n",
    "import torch\n",
    "\n",
    "torch.save(model_dict, os.path.join(output_dir, 'model.pt'))"
   ]
  }
 ],
 "metadata": {
  "kernelspec": {
   "display_name": "Python 3",
   "language": "python",
   "name": "python3"
  },
  "language_info": {
   "codemirror_mode": {
    "name": "ipython",
    "version": 3
   },
   "file_extension": ".py",
   "mimetype": "text/x-python",
   "name": "python",
   "nbconvert_exporter": "python",
   "pygments_lexer": "ipython3",
   "version": "3.6.13"
  },
  "widgets": {
   "application/vnd.jupyter.widget-state+json": {
    "state": {
     "09e542bb6a324ebb9d6f9fc3c2c42990": {
      "model_module": "@jupyter-widgets/controls",
      "model_module_version": "1.5.0",
      "model_name": "FloatProgressModel",
      "state": {
       "bar_style": "success",
       "description": "Downloading: 100%",
       "layout": "IPY_MODEL_7e6868a409714026acb9551e780dba85",
       "max": 677,
       "style": "IPY_MODEL_8247c74784f44d2da8366ffba03562da",
       "value": 677
      }
     },
     "168eb506aab14354a03c82dfaa019ba0": {
      "model_module": "@jupyter-widgets/controls",
      "model_module_version": "1.5.0",
      "model_name": "FloatProgressModel",
      "state": {
       "bar_style": "success",
       "description": "Downloading: 100%",
       "layout": "IPY_MODEL_55da9b58ed7f42dfb445582494bf2f0b",
       "max": 438008073,
       "style": "IPY_MODEL_f75e603113d841dc8458a3b0696ec1ff",
       "value": 438008073
      }
     },
     "1b8af4c44dad4fcbb535e0a01fa0f62f": {
      "model_module": "@jupyter-widgets/controls",
      "model_module_version": "1.5.0",
      "model_name": "HBoxModel",
      "state": {
       "children": [
        "IPY_MODEL_7146920b46494645a0af741780fd040b",
        "IPY_MODEL_2711f888e61948a5b8b925b9630a8d96"
       ],
       "layout": "IPY_MODEL_877e8e5e1b3641ba8830a3a7005d92af"
      }
     },
     "2711f888e61948a5b8b925b9630a8d96": {
      "model_module": "@jupyter-widgets/controls",
      "model_module_version": "1.5.0",
      "model_name": "HTMLModel",
      "state": {
       "layout": "IPY_MODEL_4f66b470d4d049b688e843c936d8fdae",
       "style": "IPY_MODEL_6e1853c024a34f4b81d456b68aa66692",
       "value": " 226k/226k [00:07&lt;00:00, 31.4kB/s]"
      }
     },
     "2d8d6cfb04894025a5017b7b1db05380": {
      "model_module": "@jupyter-widgets/base",
      "model_module_version": "1.2.0",
      "model_name": "LayoutModel",
      "state": {}
     },
     "3679afa69d304e428d343e3589ed3774": {
      "model_module": "@jupyter-widgets/controls",
      "model_module_version": "1.5.0",
      "model_name": "HBoxModel",
      "state": {
       "children": [
        "IPY_MODEL_f99a743a57f9485ca6085b21ede7744b",
        "IPY_MODEL_cd58b59b88584a0d94c7df81e1d15ba0"
       ],
       "layout": "IPY_MODEL_3c0d1ceba57e4383a15c004f51af6d30"
      }
     },
     "3c0d1ceba57e4383a15c004f51af6d30": {
      "model_module": "@jupyter-widgets/base",
      "model_module_version": "1.2.0",
      "model_name": "LayoutModel",
      "state": {}
     },
     "3e3ccab9836a4fb08ea6fdb98c4af107": {
      "model_module": "@jupyter-widgets/base",
      "model_module_version": "1.2.0",
      "model_name": "LayoutModel",
      "state": {}
     },
     "4619f19ef7cd4d80940fe418cc863330": {
      "model_module": "@jupyter-widgets/controls",
      "model_module_version": "1.5.0",
      "model_name": "HBoxModel",
      "state": {
       "children": [
        "IPY_MODEL_a11cb9b62d5348acbb68189835967194",
        "IPY_MODEL_e7234d096fc7451d8a1b527586a38ad3"
       ],
       "layout": "IPY_MODEL_7120a6071e4949d6a5e727ba05161858"
      }
     },
     "4f66b470d4d049b688e843c936d8fdae": {
      "model_module": "@jupyter-widgets/base",
      "model_module_version": "1.2.0",
      "model_name": "LayoutModel",
      "state": {}
     },
     "50d6257f9dc148a2b0dac73ac417a9aa": {
      "model_module": "@jupyter-widgets/controls",
      "model_module_version": "1.5.0",
      "model_name": "DescriptionStyleModel",
      "state": {
       "description_width": ""
      }
     },
     "55da9b58ed7f42dfb445582494bf2f0b": {
      "model_module": "@jupyter-widgets/base",
      "model_module_version": "1.2.0",
      "model_name": "LayoutModel",
      "state": {}
     },
     "6e1853c024a34f4b81d456b68aa66692": {
      "model_module": "@jupyter-widgets/controls",
      "model_module_version": "1.5.0",
      "model_name": "DescriptionStyleModel",
      "state": {
       "description_width": ""
      }
     },
     "7120a6071e4949d6a5e727ba05161858": {
      "model_module": "@jupyter-widgets/base",
      "model_module_version": "1.2.0",
      "model_name": "LayoutModel",
      "state": {}
     },
     "7146920b46494645a0af741780fd040b": {
      "model_module": "@jupyter-widgets/controls",
      "model_module_version": "1.5.0",
      "model_name": "FloatProgressModel",
      "state": {
       "bar_style": "success",
       "description": "Downloading: 100%",
       "layout": "IPY_MODEL_b855da4583ca48958d1521e0a1854897",
       "max": 231508,
       "style": "IPY_MODEL_b8394e9e012248e1aa8d6d179923343b",
       "value": 231508
      }
     },
     "7e2a2b82fe0f44cc924bd6e53f06483b": {
      "model_module": "@jupyter-widgets/controls",
      "model_module_version": "1.5.0",
      "model_name": "HTMLModel",
      "state": {
       "layout": "IPY_MODEL_be18c1fbc01f4151804838ddd3cf1fa0",
       "style": "IPY_MODEL_c621267a2bb644f0b2e8be8ad0595bcc",
       "value": " 418M/418M [01:00&lt;00:00, 7.25MB/s]"
      }
     },
     "7e6868a409714026acb9551e780dba85": {
      "model_module": "@jupyter-widgets/base",
      "model_module_version": "1.2.0",
      "model_name": "LayoutModel",
      "state": {}
     },
     "80265346e6764e52a7ce321c00a24738": {
      "model_module": "@jupyter-widgets/controls",
      "model_module_version": "1.5.0",
      "model_name": "ProgressStyleModel",
      "state": {
       "description_width": "initial"
      }
     },
     "8247c74784f44d2da8366ffba03562da": {
      "model_module": "@jupyter-widgets/controls",
      "model_module_version": "1.5.0",
      "model_name": "ProgressStyleModel",
      "state": {
       "description_width": "initial"
      }
     },
     "82a397db11c04d2487f0055ddf064c3a": {
      "model_module": "@jupyter-widgets/controls",
      "model_module_version": "1.5.0",
      "model_name": "DescriptionStyleModel",
      "state": {
       "description_width": ""
      }
     },
     "8491096ffb0047f198c014fd7adf3c79": {
      "model_module": "@jupyter-widgets/base",
      "model_module_version": "1.2.0",
      "model_name": "LayoutModel",
      "state": {}
     },
     "877e8e5e1b3641ba8830a3a7005d92af": {
      "model_module": "@jupyter-widgets/base",
      "model_module_version": "1.2.0",
      "model_name": "LayoutModel",
      "state": {}
     },
     "90f8020c5af64951a320f280b6afa039": {
      "model_module": "@jupyter-widgets/base",
      "model_module_version": "1.2.0",
      "model_name": "LayoutModel",
      "state": {}
     },
     "a11cb9b62d5348acbb68189835967194": {
      "model_module": "@jupyter-widgets/controls",
      "model_module_version": "1.5.0",
      "model_name": "FloatProgressModel",
      "state": {
       "bar_style": "success",
       "description": "Downloading: 100%",
       "layout": "IPY_MODEL_90f8020c5af64951a320f280b6afa039",
       "max": 112,
       "style": "IPY_MODEL_80265346e6764e52a7ce321c00a24738",
       "value": 112
      }
     },
     "b69c2d6b85784064b881b9865a2ca6b4": {
      "model_module": "@jupyter-widgets/controls",
      "model_module_version": "1.5.0",
      "model_name": "HBoxModel",
      "state": {
       "children": [
        "IPY_MODEL_09e542bb6a324ebb9d6f9fc3c2c42990",
        "IPY_MODEL_c8c1044e5438456d886a0cd65c53b720"
       ],
       "layout": "IPY_MODEL_3e3ccab9836a4fb08ea6fdb98c4af107"
      }
     },
     "b8394e9e012248e1aa8d6d179923343b": {
      "model_module": "@jupyter-widgets/controls",
      "model_module_version": "1.5.0",
      "model_name": "ProgressStyleModel",
      "state": {
       "description_width": "initial"
      }
     },
     "b855da4583ca48958d1521e0a1854897": {
      "model_module": "@jupyter-widgets/base",
      "model_module_version": "1.2.0",
      "model_name": "LayoutModel",
      "state": {}
     },
     "be18c1fbc01f4151804838ddd3cf1fa0": {
      "model_module": "@jupyter-widgets/base",
      "model_module_version": "1.2.0",
      "model_name": "LayoutModel",
      "state": {}
     },
     "c621267a2bb644f0b2e8be8ad0595bcc": {
      "model_module": "@jupyter-widgets/controls",
      "model_module_version": "1.5.0",
      "model_name": "DescriptionStyleModel",
      "state": {
       "description_width": ""
      }
     },
     "c66fc11f4fe04aa5ae8b632b755cf5e8": {
      "model_module": "@jupyter-widgets/base",
      "model_module_version": "1.2.0",
      "model_name": "LayoutModel",
      "state": {}
     },
     "c8c1044e5438456d886a0cd65c53b720": {
      "model_module": "@jupyter-widgets/controls",
      "model_module_version": "1.5.0",
      "model_name": "HTMLModel",
      "state": {
       "layout": "IPY_MODEL_8491096ffb0047f198c014fd7adf3c79",
       "style": "IPY_MODEL_f6e0f3602ff14be5abd70b55008ce038",
       "value": " 677/677 [00:03&lt;00:00, 175B/s]"
      }
     },
     "cbd3540920cd404a928ab7f57be66ee1": {
      "model_module": "@jupyter-widgets/controls",
      "model_module_version": "1.5.0",
      "model_name": "HBoxModel",
      "state": {
       "children": [
        "IPY_MODEL_168eb506aab14354a03c82dfaa019ba0",
        "IPY_MODEL_7e2a2b82fe0f44cc924bd6e53f06483b"
       ],
       "layout": "IPY_MODEL_2d8d6cfb04894025a5017b7b1db05380"
      }
     },
     "cd58b59b88584a0d94c7df81e1d15ba0": {
      "model_module": "@jupyter-widgets/controls",
      "model_module_version": "1.5.0",
      "model_name": "HTMLModel",
      "state": {
       "layout": "IPY_MODEL_dbf05b0f0efc4722bb8f5a6ca500d07e",
       "style": "IPY_MODEL_82a397db11c04d2487f0055ddf064c3a",
       "value": " 300/300 [00:12&lt;00:00, 23.3B/s]"
      }
     },
     "d2c2c004af3742f0b1f290146a49d012": {
      "model_module": "@jupyter-widgets/controls",
      "model_module_version": "1.5.0",
      "model_name": "ProgressStyleModel",
      "state": {
       "description_width": "initial"
      }
     },
     "dbf05b0f0efc4722bb8f5a6ca500d07e": {
      "model_module": "@jupyter-widgets/base",
      "model_module_version": "1.2.0",
      "model_name": "LayoutModel",
      "state": {}
     },
     "e7234d096fc7451d8a1b527586a38ad3": {
      "model_module": "@jupyter-widgets/controls",
      "model_module_version": "1.5.0",
      "model_name": "HTMLModel",
      "state": {
       "layout": "IPY_MODEL_f0cd3d90b10148299dc14be0bec13d45",
       "style": "IPY_MODEL_50d6257f9dc148a2b0dac73ac417a9aa",
       "value": " 112/112 [00:02&lt;00:00, 50.3B/s]"
      }
     },
     "f0cd3d90b10148299dc14be0bec13d45": {
      "model_module": "@jupyter-widgets/base",
      "model_module_version": "1.2.0",
      "model_name": "LayoutModel",
      "state": {}
     },
     "f6e0f3602ff14be5abd70b55008ce038": {
      "model_module": "@jupyter-widgets/controls",
      "model_module_version": "1.5.0",
      "model_name": "DescriptionStyleModel",
      "state": {
       "description_width": ""
      }
     },
     "f75e603113d841dc8458a3b0696ec1ff": {
      "model_module": "@jupyter-widgets/controls",
      "model_module_version": "1.5.0",
      "model_name": "ProgressStyleModel",
      "state": {
       "description_width": "initial"
      }
     },
     "f99a743a57f9485ca6085b21ede7744b": {
      "model_module": "@jupyter-widgets/controls",
      "model_module_version": "1.5.0",
      "model_name": "FloatProgressModel",
      "state": {
       "bar_style": "success",
       "description": "Downloading: 100%",
       "layout": "IPY_MODEL_c66fc11f4fe04aa5ae8b632b755cf5e8",
       "max": 300,
       "style": "IPY_MODEL_d2c2c004af3742f0b1f290146a49d012",
       "value": 300
      }
     }
    },
    "version_major": 2,
    "version_minor": 0
   }
  }
 },
 "nbformat": 4,
 "nbformat_minor": 5
}
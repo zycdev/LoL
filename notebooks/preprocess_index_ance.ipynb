{
 "cells": [
  {
   "cell_type": "code",
   "execution_count": 1,
   "id": "47536f79-fec1-42e3-bb78-877e2416d644",
   "metadata": {},
   "outputs": [
    {
     "name": "stdout",
     "output_type": "stream",
     "text": [
      "env: CUDA_VISIBLE_DEVICES=0,1\n"
     ]
    }
   ],
   "source": [
    "%load_ext autoreload\n",
    "%autoreload 2\n",
    "%env CUDA_VISIBLE_DEVICES=0,1"
   ]
  },
  {
   "cell_type": "code",
   "execution_count": 2,
   "id": "c2e65bf1-7c59-47f7-85d4-bac4a8f0a348",
   "metadata": {},
   "outputs": [],
   "source": [
    "# import joblib\n",
    "import json\n",
    "import os\n",
    "import _pickle as cPickle\n",
    "from tqdm.auto import tqdm"
   ]
  },
  {
   "cell_type": "code",
   "execution_count": 3,
   "id": "9b36d6d9-4470-4f60-ab8a-0a7434d5d171",
   "metadata": {},
   "outputs": [],
   "source": [
    "retrieval_model = 'ance-bf'"
   ]
  },
  {
   "cell_type": "markdown",
   "id": "a4b39ac7-320b-4037-81be-70df9e14c2fe",
   "metadata": {},
   "source": [
    "## Filter passages"
   ]
  },
  {
   "cell_type": "code",
   "execution_count": 4,
   "id": "d79f4889-e754-4151-9e66-0862942a2d22",
   "metadata": {},
   "outputs": [],
   "source": [
    "split = 'train'"
   ]
  },
  {
   "cell_type": "code",
   "execution_count": 5,
   "id": "35ff161d-4346-483a-959a-d249c9e9bf8d",
   "metadata": {},
   "outputs": [],
   "source": [
    "q_ids = set()"
   ]
  },
  {
   "cell_type": "code",
   "execution_count": 6,
   "id": "c6dfadf1-a219-4490-b667-9cac7e7eadf1",
   "metadata": {},
   "outputs": [
    {
     "data": {
      "application/vnd.jupyter.widget-view+json": {
       "model_id": "90f2de1fffd84669a2f2e83068ce0e0d",
       "version_major": 2,
       "version_minor": 0
      },
      "text/plain": [
       "HBox(children=(FloatProgress(value=0.0, max=532761.0), HTML(value='')))"
      ]
     },
     "metadata": {},
     "output_type": "display_data"
    },
    {
     "name": "stdout",
     "output_type": "stream",
     "text": [
      "\n",
      "502,939\n",
      "516,472\n"
     ]
    }
   ],
   "source": [
    "train_gold_pids = set()\n",
    "\n",
    "with open(f'data/msmarco-passage/qrels.train.txt') as f:\n",
    "    for line in tqdm(f.readlines()):\n",
    "        q_id, _, p_id, _ = line.rstrip().split('\\t')\n",
    "        q_ids.add(q_id)\n",
    "        train_gold_pids.add(p_id)\n",
    "print(f'{len(q_ids):,}')  # 502,939\n",
    "print(f'{len(train_gold_pids):,}')  # 516,472\n",
    "\n",
    "if not os.path.exists('data/msmarco-passage/pids.train.gold.txt'):\n",
    "    print(f\"writing to data/msmarco-passage/pids.train.gold.txt\")\n",
    "    with open('data/msmarco-passage/pids.train.gold.txt', 'w') as f:\n",
    "        for p_id in sorted(train_gold_pids, key=lambda x: int(x)):\n",
    "            f.write(f'{p_id}\\n')"
   ]
  },
  {
   "cell_type": "code",
   "execution_count": 7,
   "id": "66f30d80-0b8c-420c-bc9c-e8ccba319ed4",
   "metadata": {},
   "outputs": [
    {
     "data": {
      "application/vnd.jupyter.widget-view+json": {
       "model_id": "79925d4670e24fc79f41f32920d1fa84",
       "version_major": 2,
       "version_minor": 0
      },
      "text/plain": [
       "HBox(children=(FloatProgress(value=0.0, max=7437.0), HTML(value='')))"
      ]
     },
     "metadata": {},
     "output_type": "display_data"
    },
    {
     "name": "stdout",
     "output_type": "stream",
     "text": [
      "\n",
      "509,919\n",
      "7,433\n"
     ]
    }
   ],
   "source": [
    "dev_gold_pids = set()\n",
    "\n",
    "with open('data/msmarco-passage/qrels.dev.small.txt') as f:\n",
    "    for line in tqdm(f.readlines()):\n",
    "        q_id, _, p_id, _ = line.rstrip().split('\\t')\n",
    "        q_ids.add(q_id)\n",
    "        dev_gold_pids.add(p_id)\n",
    "print(f'{len(q_ids):,}')  # 509,919 = 502,939 + 6,980\n",
    "print(f'{len(dev_gold_pids):,}')  # 7,433\n",
    "\n",
    "if not os.path.exists('data/msmarco-passage/pids.dev.small.gold.txt'):\n",
    "    with open('data/msmarco-passage/pids.dev.small.gold.txt', 'w') as f:\n",
    "        for p_id in sorted(dev_gold_pids, key=lambda x: int(x)):\n",
    "            f.write(f'{p_id}\\n')"
   ]
  },
  {
   "cell_type": "code",
   "execution_count": 8,
   "id": "2a526a32-6c94-4763-9e43-08ba20d7bc7e",
   "metadata": {},
   "outputs": [
    {
     "name": "stdout",
     "output_type": "stream",
     "text": [
      "523,598\n"
     ]
    }
   ],
   "source": [
    "gold_pids = train_gold_pids | dev_gold_pids\n",
    "print(f'{len(gold_pids):,}')  # 523,598\n",
    "\n",
    "if not os.path.exists('data/msmarco-passage/pids.gold.txt'):\n",
    "    with open('data/msmarco-passage/pids.gold.txt', 'w') as f:\n",
    "        for p_id in sorted(gold_pids, key=lambda x: int(x)):\n",
    "            f.write(f'{p_id}\\n')"
   ]
  },
  {
   "cell_type": "raw",
   "id": "19e6b3f9-dfdf-4007-a361-b53fd32d2457",
   "metadata": {
    "jupyter": {
     "source_hidden": true
    },
    "tags": []
   },
   "source": [
    "import collections\n",
    "import glob\n",
    "\n",
    "# ance-bf 502,939\n",
    "# bm25tuned 502,930\n",
    "# expanded-bm25tuned 502,931\n",
    "# unicoil-b8 502,939\n",
    "for file_name in sorted(glob.glob('data/msmarco-passage/run/*.train.tsv')):\n",
    "    rm = file_name.split('/')[-1].split('.')[0]\n",
    "    if os.path.exists(f'{file_name[:-4]}.json'):\n",
    "        continue\n",
    "    retrieval_result = collections.defaultdict(list)\n",
    "    with open(file_name) as f:\n",
    "        for line in f:\n",
    "            q_id, p_id, rank = line.rstrip().split('\\t')\n",
    "            if q_id not in q_ids:\n",
    "                continue\n",
    "            rank = int(rank)\n",
    "            assert rank == len(retrieval_result[q_id]) + 1\n",
    "            retrieval_result[q_id].append(p_id)\n",
    "    print(f'{rm} {len(retrieval_result):,}')\n",
    "    with open(f'{file_name[:-4]}.json', 'w') as f:\n",
    "        json.dump(retrieval_result, f, indent=2)"
   ]
  },
  {
   "cell_type": "code",
   "execution_count": 9,
   "id": "a8ea1168-fa1d-4322-9eff-e5196d585c57",
   "metadata": {},
   "outputs": [
    {
     "data": {
      "application/vnd.jupyter.widget-view+json": {
       "model_id": "113a14afdc8540f4abb1ecae73e3f62a",
       "version_major": 2,
       "version_minor": 0
      },
      "text/plain": [
       "HBox(children=(FloatProgress(value=0.0, max=40436550.0), HTML(value='')))"
      ]
     },
     "metadata": {},
     "output_type": "display_data"
    },
    {
     "name": "stdout",
     "output_type": "stream",
     "text": [
      "\n",
      "ance-bf 4,251,534\n"
     ]
    },
    {
     "data": {
      "application/vnd.jupyter.widget-view+json": {
       "model_id": "e1b2e15eeb52406895424ff989964223",
       "version_major": 2,
       "version_minor": 0
      },
      "text/plain": [
       "HBox(children=(FloatProgress(value=0.0, max=40433869.0), HTML(value='')))"
      ]
     },
     "metadata": {},
     "output_type": "display_data"
    },
    {
     "name": "stdout",
     "output_type": "stream",
     "text": [
      "\n",
      "bm25tuned 4,765,824\n"
     ]
    },
    {
     "data": {
      "application/vnd.jupyter.widget-view+json": {
       "model_id": "a66e598dbac5409b9d1d1debc2d80f48",
       "version_major": 2,
       "version_minor": 0
      },
      "text/plain": [
       "HBox(children=(FloatProgress(value=0.0, max=40434110.0), HTML(value='')))"
      ]
     },
     "metadata": {},
     "output_type": "display_data"
    },
    {
     "name": "stdout",
     "output_type": "stream",
     "text": [
      "\n",
      "expanded-bm25tuned 5,129,711\n"
     ]
    },
    {
     "data": {
      "application/vnd.jupyter.widget-view+json": {
       "model_id": "9f31e3fd60a74f82a04c7521f2d29f97",
       "version_major": 2,
       "version_minor": 0
      },
      "text/plain": [
       "HBox(children=(FloatProgress(value=0.0, max=40436550.0), HTML(value='')))"
      ]
     },
     "metadata": {},
     "output_type": "display_data"
    },
    {
     "name": "stdout",
     "output_type": "stream",
     "text": [
      "\n",
      "unicoil-b8 5,248,980\n",
      "5,284,422\n"
     ]
    }
   ],
   "source": [
    "import glob\n",
    "\n",
    "top_k_for_this = 20\n",
    "top_k_for_other = 5\n",
    "top_pids = set()\n",
    "\n",
    "with open(f'data/msmarco-passage/run/{retrieval_model}.{split}.tsv') as f:\n",
    "    for line in tqdm(f.readlines()):\n",
    "        q_id, p_id, rank = line.rstrip().split('\\t')\n",
    "        if q_id not in q_ids:\n",
    "            continue\n",
    "        rank = int(rank)\n",
    "        if rank <= top_k_for_this:\n",
    "            top_pids.add(p_id)\n",
    "print(f'{retrieval_model} {len(top_pids):,}')\n",
    "\n",
    "for file_name in sorted(glob.glob(f'data/msmarco-passage/run/*.{split}.tsv')):\n",
    "    rm = file_name.split('/')[-1].split('.')[0]\n",
    "    if rm == retrieval_model:\n",
    "        continue\n",
    "    with open(file_name) as f:\n",
    "        for line in tqdm(f.readlines()):\n",
    "            q_id, p_id, rank = line.rstrip().split('\\t')\n",
    "            if q_id not in q_ids:\n",
    "                continue\n",
    "            rank = int(rank)\n",
    "            if rank <= top_k_for_other:\n",
    "                top_pids.add(p_id)\n",
    "    print(f'{rm} {len(top_pids):,}')\n",
    "\n",
    "top_pids.update(train_gold_pids if 'train' in split else dev_gold_pids)\n",
    "print(f'{len(top_pids):,}')\n",
    "# gold: 516,472\n",
    "#    1: 1,330,614 6.2GB\n",
    "#    2: 1,999,058 9.3GB\n",
    "#    3: 2,574,081 11.6GB\n",
    "#    5: 3,526,992 16.1GB\n",
    "#   10: 3,863,152 23.2(27.2)GB\n",
    "#   20: 6,882,374 32.0GB\n",
    "#  all: 8,841,823 40.5GB\n",
    "\n",
    "with open(f'data/msmarco-passage/pids.{split}.{retrieval_model}.top{top_k_for_this}.txt', 'w') as f:\n",
    "    for p_id in sorted(top_pids, key=lambda x: int(x)):\n",
    "        f.write(f'{p_id}\\n')"
   ]
  },
  {
   "cell_type": "markdown",
   "id": "46211e93-acfa-4aff-a4cd-5a49822f67da",
   "metadata": {
    "jp-MarkdownHeadingCollapsed": true,
    "tags": []
   },
   "source": [
    "## Load full index"
   ]
  },
  {
   "cell_type": "raw",
   "id": "8c499b1f-b661-4b3b-a795-f98fe3b37134",
   "metadata": {},
   "source": [
    "from pyserini.dsearch import SimpleDenseSearcher\n",
    "docids = SimpleDenseSearcher.load_docids('/home/shenhuawei/.cache/pyserini/indexes/dindex-msmarco-passage-ance-bf-20210224-060cef.f6332edb8f06ba796850388cf975b414/docid')\n",
    "print(len(docids))  # 8841823\n",
    "assert docids == sorted(docids, key=lambda x: int(x))\n",
    "docid2idx = {docid: idx for idx, docid in enumerate(docids)}"
   ]
  },
  {
   "cell_type": "raw",
   "id": "ed80f80d-8b90-4de9-a070-457a09d11fe1",
   "metadata": {},
   "source": [
    "import faiss\n",
    "index = faiss.read_index('/home/shenhuawei/.cache/pyserini/indexes/dindex-msmarco-passage-ance-bf-20210224-060cef.f6332edb8f06ba796850388cf975b414/index')"
   ]
  },
  {
   "cell_type": "markdown",
   "id": "c6477093-0ae6-464d-ae35-67de8dda1205",
   "metadata": {
    "tags": []
   },
   "source": [
    "## Get full P matrix"
   ]
  },
  {
   "cell_type": "raw",
   "id": "6ccd85ca-64cb-4696-93b7-7257ca6a05ab",
   "metadata": {},
   "source": [
    "from util import load_pids\n",
    "\n",
    "pids, pid2idx = load_pids(f'data/msmarco-passage/pids.all.txt')\n",
    "print(len(pids), len(pid2idx))"
   ]
  },
  {
   "cell_type": "raw",
   "id": "bd3d0d30-7333-4eec-956d-49073c870a56",
   "metadata": {},
   "source": [
    "index.reconstruct(0).shape"
   ]
  },
  {
   "cell_type": "raw",
   "id": "c12952eb-f618-4433-89d8-5170549ad15f",
   "metadata": {},
   "source": [
    "assert pids == docids\n",
    "matrix = index.reconstruct_n(0, len(pids))\n",
    "print(matrix.shape)  # (8841823, 768)"
   ]
  },
  {
   "cell_type": "raw",
   "id": "dd46d70a-c2b6-4b1a-b770-8aba7d012b98",
   "metadata": {},
   "source": [
    "import torch\n",
    "matrix_full = torch.from_numpy(matrix)\n",
    "print(matrix_full.shape)  # torch.Size([8841823, 768])"
   ]
  },
  {
   "cell_type": "raw",
   "id": "1074ce0e-b4b9-4e30-b1fc-0e6656e7162e",
   "metadata": {},
   "source": [
    "torch.save(matrix_full, f'data/msmarco-passage/matrix/{retrieval_model}.pt')"
   ]
  },
  {
   "cell_type": "code",
   "execution_count": 10,
   "id": "a1febc77-d244-457a-a29d-b8baef734288",
   "metadata": {},
   "outputs": [],
   "source": [
    "import torch\n",
    "matrix_full = torch.load(f'data/msmarco-passage/matrix/{retrieval_model}.pt')"
   ]
  },
  {
   "cell_type": "code",
   "execution_count": 11,
   "id": "75536ce8-5c6c-41f8-9f70-41d97a53c939",
   "metadata": {},
   "outputs": [
    {
     "data": {
      "text/plain": [
       "torch.Size([8841823, 768])"
      ]
     },
     "execution_count": 11,
     "metadata": {},
     "output_type": "execute_result"
    }
   ],
   "source": [
    "matrix_full.shape"
   ]
  },
  {
   "cell_type": "markdown",
   "id": "f5466904-effc-40c8-b4f6-71be52b6d840",
   "metadata": {},
   "source": [
    "## Get partial P matrix"
   ]
  },
  {
   "cell_type": "code",
   "execution_count": 12,
   "id": "4871fc87-8c9a-4702-85c0-cc112105ad19",
   "metadata": {},
   "outputs": [],
   "source": [
    "split = 'train'\n",
    "selection = 'top20'"
   ]
  },
  {
   "cell_type": "raw",
   "id": "a32f264d-1d65-471a-9cbc-18d175991a2d",
   "metadata": {},
   "source": [
    "import torch\n",
    "matrix_selection = torch.load(f'data/msmarco-passage/matrix/{split}.{retrieval_model}.{selection}.pt')"
   ]
  },
  {
   "cell_type": "code",
   "execution_count": 13,
   "id": "8c4c5d67-1795-4fc1-a363-7610903782fa",
   "metadata": {},
   "outputs": [
    {
     "name": "stdout",
     "output_type": "stream",
     "text": [
      "5284422 8841823\n"
     ]
    }
   ],
   "source": [
    "from util import load_pids\n",
    "\n",
    "pids = load_pids(f'data/msmarco-passage/pids.{split}.{retrieval_model}.{selection}.txt')[0]\n",
    "all_pid2idx = load_pids(f'data/msmarco-passage/pids.all.txt')[1]\n",
    "print(len(pids), len(all_pid2idx))"
   ]
  },
  {
   "cell_type": "code",
   "execution_count": 14,
   "id": "c1260aac-4d9a-4653-861a-24ee0a76a96e",
   "metadata": {},
   "outputs": [],
   "source": [
    "indices = torch.tensor([all_pid2idx[pid] for pid in pids])"
   ]
  },
  {
   "cell_type": "code",
   "execution_count": 15,
   "id": "20b60445-e9c2-43f6-bee5-62cc0a0b50e8",
   "metadata": {},
   "outputs": [
    {
     "name": "stdout",
     "output_type": "stream",
     "text": [
      "torch.Size([5284422, 768])\n"
     ]
    }
   ],
   "source": [
    "matrix_selection = matrix_full.index_select(dim=0, index=indices)\n",
    "print(matrix_selection.shape)  # torch.Size([3863152, 768])"
   ]
  },
  {
   "cell_type": "code",
   "execution_count": 16,
   "id": "d89fa709-bab2-453d-935a-69a501ad2358",
   "metadata": {},
   "outputs": [],
   "source": [
    "torch.save(matrix_selection, f'data/msmarco-passage/matrix/{split}.{retrieval_model}.{selection}.pt')"
   ]
  },
  {
   "cell_type": "markdown",
   "id": "e416f472-eea7-4365-a7fc-6246d5e35ad8",
   "metadata": {},
   "source": [
    "## Retrieval"
   ]
  },
  {
   "cell_type": "code",
   "execution_count": 45,
   "id": "45b60066-69ce-49f3-97d8-b41c5954d31c",
   "metadata": {},
   "outputs": [],
   "source": [
    "import time"
   ]
  },
  {
   "cell_type": "code",
   "execution_count": 46,
   "id": "573450ab-a143-403e-90dd-83242974952e",
   "metadata": {},
   "outputs": [],
   "source": [
    "P, Q, S = None, None, None"
   ]
  },
  {
   "cell_type": "code",
   "execution_count": 47,
   "id": "99821d73-ca37-4c57-a054-4a6b41abdc33",
   "metadata": {},
   "outputs": [],
   "source": [
    "device = 'cuda:1'"
   ]
  },
  {
   "cell_type": "code",
   "execution_count": 48,
   "id": "7a7e9eac-98a6-40fa-b029-b47a2e019289",
   "metadata": {},
   "outputs": [],
   "source": [
    "if P is not None:\n",
    "    del P\n",
    "    P = None\n",
    "P = matrix_selection.to(device)  # matrix_full matrix_selection"
   ]
  },
  {
   "cell_type": "code",
   "execution_count": 49,
   "id": "d5f32aca-973c-46d1-b042-09bdbbbf5201",
   "metadata": {},
   "outputs": [],
   "source": [
    "torch.cuda.empty_cache()"
   ]
  },
  {
   "cell_type": "code",
   "execution_count": 50,
   "id": "688d042c-2b5e-489f-9a32-73f4ebfe2648",
   "metadata": {},
   "outputs": [],
   "source": [
    "if Q is not None:\n",
    "    del Q\n",
    "    Q = None\n",
    "Q = torch.rand((P.size(1), 96), dtype=torch.float, device=device, requires_grad=True)"
   ]
  },
  {
   "cell_type": "code",
   "execution_count": 51,
   "id": "179b7ecd-1feb-49b1-b85f-5e6027c8af2d",
   "metadata": {},
   "outputs": [
    {
     "name": "stdout",
     "output_type": "stream",
     "text": [
      "0.8207974433898926\n",
      "torch.Size([3859912, 96])\n",
      "CPU times: user 252 ms, sys: 153 ms, total: 405 ms\n",
      "Wall time: 821 ms\n"
     ]
    }
   ],
   "source": [
    "%%time\n",
    "# top10: 3863152  12.5-14.0GB  384 392 416 423 527 µs 354 ms\n",
    "# all  : 8841823  27.1-30.4GB  380 450 451 456 µs\n",
    "if S is not None:\n",
    "    del S\n",
    "    S = None\n",
    "start = time.time()\n",
    "S = torch.mm(P, Q)\n",
    "print(time.time() - start)\n",
    "print(S.shape)"
   ]
  },
  {
   "cell_type": "code",
   "execution_count": null,
   "id": "90fe1dd5-0d41-4add-9866-a4ab9ece69d5",
   "metadata": {},
   "outputs": [],
   "source": []
  }
 ],
 "metadata": {
  "kernelspec": {
   "display_name": "Python 3",
   "language": "python",
   "name": "python3"
  },
  "language_info": {
   "codemirror_mode": {
    "name": "ipython",
    "version": 3
   },
   "file_extension": ".py",
   "mimetype": "text/x-python",
   "name": "python",
   "nbconvert_exporter": "python",
   "pygments_lexer": "ipython3",
   "version": "3.6.13"
  },
  "widgets": {
   "application/vnd.jupyter.widget-state+json": {
    "state": {
     "01a7b8b7075046d6b227395beea101a0": {
      "model_module": "@jupyter-widgets/base",
      "model_module_version": "1.2.0",
      "model_name": "LayoutModel",
      "state": {}
     },
     "07ec062361214513a0890fb2070c30b6": {
      "model_module": "@jupyter-widgets/controls",
      "model_module_version": "1.5.0",
      "model_name": "DescriptionStyleModel",
      "state": {
       "description_width": ""
      }
     },
     "0c894c9a0af94497ab3c7c2c1f4c0083": {
      "model_module": "@jupyter-widgets/controls",
      "model_module_version": "1.5.0",
      "model_name": "FloatProgressModel",
      "state": {
       "bar_style": "success",
       "description": "100%",
       "layout": "IPY_MODEL_820b7a9c08a441d8bc7f80504d9c5e67",
       "max": 532761,
       "style": "IPY_MODEL_6f6ee746d4ff4edab37ed86a0d8adbde",
       "value": 532761
      }
     },
     "0f59192e788541509cd8eaf6bc563269": {
      "model_module": "@jupyter-widgets/controls",
      "model_module_version": "1.5.0",
      "model_name": "FloatProgressModel",
      "state": {
       "bar_style": "success",
       "description": "100%",
       "layout": "IPY_MODEL_f57e780e63fb427681631aa239e3ba76",
       "max": 40433869,
       "style": "IPY_MODEL_f00f1ceaaa38449aa7358b7e0e23f06d",
       "value": 40433869
      }
     },
     "113a14afdc8540f4abb1ecae73e3f62a": {
      "model_module": "@jupyter-widgets/controls",
      "model_module_version": "1.5.0",
      "model_name": "HBoxModel",
      "state": {
       "children": [
        "IPY_MODEL_24cf61f50a8440a59a9ae43ce0421718",
        "IPY_MODEL_cc4de0b205dc46ecacc99cf8e3bbb62a"
       ],
       "layout": "IPY_MODEL_b9fac8291a8b48c4a4cddae5b29b876f"
      }
     },
     "1b72405708f7418d80684d31d8de3fd4": {
      "model_module": "@jupyter-widgets/controls",
      "model_module_version": "1.5.0",
      "model_name": "FloatProgressModel",
      "state": {
       "bar_style": "success",
       "description": "100%",
       "layout": "IPY_MODEL_01a7b8b7075046d6b227395beea101a0",
       "max": 40434110,
       "style": "IPY_MODEL_4959118bccd84b418c89e8ff4ad24406",
       "value": 40434110
      }
     },
     "23ceb2a800834d9989b40e4d81251b5d": {
      "model_module": "@jupyter-widgets/base",
      "model_module_version": "1.2.0",
      "model_name": "LayoutModel",
      "state": {}
     },
     "24cf61f50a8440a59a9ae43ce0421718": {
      "model_module": "@jupyter-widgets/controls",
      "model_module_version": "1.5.0",
      "model_name": "FloatProgressModel",
      "state": {
       "bar_style": "success",
       "description": "100%",
       "layout": "IPY_MODEL_9b0b02066de34a1bad75a8297dcca1f4",
       "max": 40436550,
       "style": "IPY_MODEL_f07e7914499e460d8b342aacb2014027",
       "value": 40436550
      }
     },
     "2b80d688013d4a5dbad8a5b443987508": {
      "model_module": "@jupyter-widgets/controls",
      "model_module_version": "1.5.0",
      "model_name": "HTMLModel",
      "state": {
       "layout": "IPY_MODEL_7954f7865b074772864aa3bebfb2a6fd",
       "style": "IPY_MODEL_553a464291d64d7f9b01f02c0298ed85",
       "value": " 40433869/40433869 [00:50&lt;00:00, 797580.26it/s]"
      }
     },
     "350c8cf845494979aa12bfb8c43d45bf": {
      "model_module": "@jupyter-widgets/controls",
      "model_module_version": "1.5.0",
      "model_name": "DescriptionStyleModel",
      "state": {
       "description_width": ""
      }
     },
     "4959118bccd84b418c89e8ff4ad24406": {
      "model_module": "@jupyter-widgets/controls",
      "model_module_version": "1.5.0",
      "model_name": "ProgressStyleModel",
      "state": {
       "description_width": "initial"
      }
     },
     "498668906a314740ae044026654ff48d": {
      "model_module": "@jupyter-widgets/controls",
      "model_module_version": "1.5.0",
      "model_name": "FloatProgressModel",
      "state": {
       "bar_style": "success",
       "description": "100%",
       "layout": "IPY_MODEL_4eacce51372140ff816c1a6d321a03f4",
       "max": 7437,
       "style": "IPY_MODEL_8d5083f213074b66990eb769726bf8c9",
       "value": 7437
      }
     },
     "4b4828ae9c8a462aac125090465c7439": {
      "model_module": "@jupyter-widgets/base",
      "model_module_version": "1.2.0",
      "model_name": "LayoutModel",
      "state": {}
     },
     "4c92db7c7ea143faaa3d741d211bffd4": {
      "model_module": "@jupyter-widgets/base",
      "model_module_version": "1.2.0",
      "model_name": "LayoutModel",
      "state": {}
     },
     "4eacce51372140ff816c1a6d321a03f4": {
      "model_module": "@jupyter-widgets/base",
      "model_module_version": "1.2.0",
      "model_name": "LayoutModel",
      "state": {}
     },
     "518161b869184691b5bddd8b697779f9": {
      "model_module": "@jupyter-widgets/controls",
      "model_module_version": "1.5.0",
      "model_name": "HTMLModel",
      "state": {
       "layout": "IPY_MODEL_55999e38da514aac883024028e9ae79a",
       "style": "IPY_MODEL_f81e56112b234ebdb70d9f7ba4a51ea2",
       "value": " 40436550/40436550 [01:43&lt;00:00, 390732.59it/s]"
      }
     },
     "553a464291d64d7f9b01f02c0298ed85": {
      "model_module": "@jupyter-widgets/controls",
      "model_module_version": "1.5.0",
      "model_name": "DescriptionStyleModel",
      "state": {
       "description_width": ""
      }
     },
     "55999e38da514aac883024028e9ae79a": {
      "model_module": "@jupyter-widgets/base",
      "model_module_version": "1.2.0",
      "model_name": "LayoutModel",
      "state": {}
     },
     "5b2ea683e74f489a87b0608785bc6bdb": {
      "model_module": "@jupyter-widgets/base",
      "model_module_version": "1.2.0",
      "model_name": "LayoutModel",
      "state": {}
     },
     "5d71cc1e6a3e404c8b2268bbff806db0": {
      "model_module": "@jupyter-widgets/controls",
      "model_module_version": "1.5.0",
      "model_name": "ProgressStyleModel",
      "state": {
       "description_width": "initial"
      }
     },
     "6f6ee746d4ff4edab37ed86a0d8adbde": {
      "model_module": "@jupyter-widgets/controls",
      "model_module_version": "1.5.0",
      "model_name": "ProgressStyleModel",
      "state": {
       "description_width": "initial"
      }
     },
     "7954f7865b074772864aa3bebfb2a6fd": {
      "model_module": "@jupyter-widgets/base",
      "model_module_version": "1.2.0",
      "model_name": "LayoutModel",
      "state": {}
     },
     "79925d4670e24fc79f41f32920d1fa84": {
      "model_module": "@jupyter-widgets/controls",
      "model_module_version": "1.5.0",
      "model_name": "HBoxModel",
      "state": {
       "children": [
        "IPY_MODEL_498668906a314740ae044026654ff48d",
        "IPY_MODEL_9ae460f6e9884356b8d62abc9d159466"
       ],
       "layout": "IPY_MODEL_d5ebcb6f3c5145729ac5a8c8cc7cfae0"
      }
     },
     "79b0e0141bad4934b0b623bdf63e8bfc": {
      "model_module": "@jupyter-widgets/controls",
      "model_module_version": "1.5.0",
      "model_name": "HTMLModel",
      "state": {
       "layout": "IPY_MODEL_4c92db7c7ea143faaa3d741d211bffd4",
       "style": "IPY_MODEL_350c8cf845494979aa12bfb8c43d45bf",
       "value": " 532761/532761 [04:34&lt;00:00, 1942.95it/s]"
      }
     },
     "7a56bdb3b853464d97380d84feb0de9e": {
      "model_module": "@jupyter-widgets/controls",
      "model_module_version": "1.5.0",
      "model_name": "DescriptionStyleModel",
      "state": {
       "description_width": ""
      }
     },
     "7dc4c15347d3455fa3c872dfc84b7b72": {
      "model_module": "@jupyter-widgets/base",
      "model_module_version": "1.2.0",
      "model_name": "LayoutModel",
      "state": {}
     },
     "7f8f5f9f5d564d668a4f55cee1728cc7": {
      "model_module": "@jupyter-widgets/base",
      "model_module_version": "1.2.0",
      "model_name": "LayoutModel",
      "state": {}
     },
     "820b7a9c08a441d8bc7f80504d9c5e67": {
      "model_module": "@jupyter-widgets/base",
      "model_module_version": "1.2.0",
      "model_name": "LayoutModel",
      "state": {}
     },
     "8d5083f213074b66990eb769726bf8c9": {
      "model_module": "@jupyter-widgets/controls",
      "model_module_version": "1.5.0",
      "model_name": "ProgressStyleModel",
      "state": {
       "description_width": "initial"
      }
     },
     "90f2de1fffd84669a2f2e83068ce0e0d": {
      "model_module": "@jupyter-widgets/controls",
      "model_module_version": "1.5.0",
      "model_name": "HBoxModel",
      "state": {
       "children": [
        "IPY_MODEL_0c894c9a0af94497ab3c7c2c1f4c0083",
        "IPY_MODEL_79b0e0141bad4934b0b623bdf63e8bfc"
       ],
       "layout": "IPY_MODEL_9997d52f175a4bc797a381199f9c3c16"
      }
     },
     "9997d52f175a4bc797a381199f9c3c16": {
      "model_module": "@jupyter-widgets/base",
      "model_module_version": "1.2.0",
      "model_name": "LayoutModel",
      "state": {}
     },
     "9ae460f6e9884356b8d62abc9d159466": {
      "model_module": "@jupyter-widgets/controls",
      "model_module_version": "1.5.0",
      "model_name": "HTMLModel",
      "state": {
       "layout": "IPY_MODEL_7dc4c15347d3455fa3c872dfc84b7b72",
       "style": "IPY_MODEL_b907386b4c654732bcafd8b472aa08a2",
       "value": " 7437/7437 [04:30&lt;00:00, 27.48it/s]"
      }
     },
     "9b0b02066de34a1bad75a8297dcca1f4": {
      "model_module": "@jupyter-widgets/base",
      "model_module_version": "1.2.0",
      "model_name": "LayoutModel",
      "state": {}
     },
     "9d90138ec1de46ecb1b3282b65e18838": {
      "model_module": "@jupyter-widgets/controls",
      "model_module_version": "1.5.0",
      "model_name": "FloatProgressModel",
      "state": {
       "bar_style": "success",
       "description": "100%",
       "layout": "IPY_MODEL_23ceb2a800834d9989b40e4d81251b5d",
       "max": 40436550,
       "style": "IPY_MODEL_5d71cc1e6a3e404c8b2268bbff806db0",
       "value": 40436550
      }
     },
     "9f31e3fd60a74f82a04c7521f2d29f97": {
      "model_module": "@jupyter-widgets/controls",
      "model_module_version": "1.5.0",
      "model_name": "HBoxModel",
      "state": {
       "children": [
        "IPY_MODEL_9d90138ec1de46ecb1b3282b65e18838",
        "IPY_MODEL_518161b869184691b5bddd8b697779f9"
       ],
       "layout": "IPY_MODEL_b1cefbaa270c4dbea7e10231855b9e47"
      }
     },
     "a66e598dbac5409b9d1d1debc2d80f48": {
      "model_module": "@jupyter-widgets/controls",
      "model_module_version": "1.5.0",
      "model_name": "HBoxModel",
      "state": {
       "children": [
        "IPY_MODEL_1b72405708f7418d80684d31d8de3fd4",
        "IPY_MODEL_d20e2d20b892432b9251fe9c2934e8a2"
       ],
       "layout": "IPY_MODEL_7f8f5f9f5d564d668a4f55cee1728cc7"
      }
     },
     "b1cefbaa270c4dbea7e10231855b9e47": {
      "model_module": "@jupyter-widgets/base",
      "model_module_version": "1.2.0",
      "model_name": "LayoutModel",
      "state": {}
     },
     "b907386b4c654732bcafd8b472aa08a2": {
      "model_module": "@jupyter-widgets/controls",
      "model_module_version": "1.5.0",
      "model_name": "DescriptionStyleModel",
      "state": {
       "description_width": ""
      }
     },
     "b9fac8291a8b48c4a4cddae5b29b876f": {
      "model_module": "@jupyter-widgets/base",
      "model_module_version": "1.2.0",
      "model_name": "LayoutModel",
      "state": {}
     },
     "cc4de0b205dc46ecacc99cf8e3bbb62a": {
      "model_module": "@jupyter-widgets/controls",
      "model_module_version": "1.5.0",
      "model_name": "HTMLModel",
      "state": {
       "layout": "IPY_MODEL_e719c5377c2941abaf6c9e439ce628e8",
       "style": "IPY_MODEL_07ec062361214513a0890fb2070c30b6",
       "value": " 40436550/40436550 [01:41&lt;00:00, 398283.43it/s]"
      }
     },
     "d20e2d20b892432b9251fe9c2934e8a2": {
      "model_module": "@jupyter-widgets/controls",
      "model_module_version": "1.5.0",
      "model_name": "HTMLModel",
      "state": {
       "layout": "IPY_MODEL_4b4828ae9c8a462aac125090465c7439",
       "style": "IPY_MODEL_7a56bdb3b853464d97380d84feb0de9e",
       "value": " 40434110/40434110 [02:37&lt;00:00, 256141.89it/s]"
      }
     },
     "d5ebcb6f3c5145729ac5a8c8cc7cfae0": {
      "model_module": "@jupyter-widgets/base",
      "model_module_version": "1.2.0",
      "model_name": "LayoutModel",
      "state": {}
     },
     "e1b2e15eeb52406895424ff989964223": {
      "model_module": "@jupyter-widgets/controls",
      "model_module_version": "1.5.0",
      "model_name": "HBoxModel",
      "state": {
       "children": [
        "IPY_MODEL_0f59192e788541509cd8eaf6bc563269",
        "IPY_MODEL_2b80d688013d4a5dbad8a5b443987508"
       ],
       "layout": "IPY_MODEL_5b2ea683e74f489a87b0608785bc6bdb"
      }
     },
     "e719c5377c2941abaf6c9e439ce628e8": {
      "model_module": "@jupyter-widgets/base",
      "model_module_version": "1.2.0",
      "model_name": "LayoutModel",
      "state": {}
     },
     "f00f1ceaaa38449aa7358b7e0e23f06d": {
      "model_module": "@jupyter-widgets/controls",
      "model_module_version": "1.5.0",
      "model_name": "ProgressStyleModel",
      "state": {
       "description_width": "initial"
      }
     },
     "f07e7914499e460d8b342aacb2014027": {
      "model_module": "@jupyter-widgets/controls",
      "model_module_version": "1.5.0",
      "model_name": "ProgressStyleModel",
      "state": {
       "description_width": "initial"
      }
     },
     "f57e780e63fb427681631aa239e3ba76": {
      "model_module": "@jupyter-widgets/base",
      "model_module_version": "1.2.0",
      "model_name": "LayoutModel",
      "state": {}
     },
     "f81e56112b234ebdb70d9f7ba4a51ea2": {
      "model_module": "@jupyter-widgets/controls",
      "model_module_version": "1.5.0",
      "model_name": "DescriptionStyleModel",
      "state": {
       "description_width": ""
      }
     }
    },
    "version_major": 2,
    "version_minor": 0
   }
  }
 },
 "nbformat": 4,
 "nbformat_minor": 5
}
